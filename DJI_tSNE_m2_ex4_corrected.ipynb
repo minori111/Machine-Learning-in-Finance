{
 "cells": [
  {
   "cell_type": "markdown",
   "metadata": {},
   "source": [
    "# Data visualization with t-SNE\n",
    "\n",
    "Welcome to your 3-rd assignment in Unsupervised Machine Learning in Finance. This exercise will provide hands-on experience with non-linear models such as KernelPCA and t-SNE.\n",
    "\n",
    "**Instructions:**\n",
    "- You will be using Python 3.\n",
    "- Avoid using for-loops and while-loops, unless you are explicitly told to do so.\n",
    "- Do not modify the (# GRADED FUNCTION [function name]) comment in some cells. Your work would not be graded if you change this. Each cell containing that comment should only contain one function.\n",
    "- After coding your function, run the cell right below it to check if your result is correct.\n",
    "\n",
    "**After this assignment you will:**\n",
    "- Be able to use KernelPCA to construct eigen-portfolios\n",
    "- Calculate un-expected log-returns \n",
    "- Visualize multi-dimensional data using t-SNE\n",
    "\n",
    "Let's get started!"
   ]
  },
  {
   "cell_type": "markdown",
   "metadata": {},
   "source": [
    "## About iPython Notebooks ##\n",
    "\n",
    "iPython Notebooks are interactive coding environments embedded in a webpage. You will be using iPython notebooks in this class. You only need to write code between the ### START CODE HERE ### and ### END CODE HERE ### comments. After writing your code, you can run the cell by either pressing \"SHIFT\"+\"ENTER\" or by clicking on \"Run Cell\" (denoted by a play symbol) in the upper bar of the notebook. \n",
    "\n",
    "We will often specify \"(≈ X lines of code)\" in the comments to tell you about how much code you need to write. It is just a rough estimate, so don't feel bad if your code is longer or shorter."
   ]
  },
  {
   "cell_type": "code",
   "execution_count": 8,
   "metadata": {
    "collapsed": true
   },
   "outputs": [],
   "source": [
    "import os\n",
    "import numpy as np\n",
    "import pandas as pd\n",
    "from sklearn import preprocessing\n",
    "import datetime\n",
    "from sklearn.ensemble import RandomForestClassifier\n",
    "from sklearn import neighbors\n",
    "from sklearn.ensemble import AdaBoostClassifier\n",
    "from sklearn.ensemble import GradientBoostingClassifier\n",
    "from sklearn.svm import SVC\n",
    "import operator\n",
    "\n",
    "import sys\n",
    "sys.path.append(\"..\")\n",
    "import grading\n",
    "\n",
    "try:\n",
    "    import matplotlib.pyplot as plt\n",
    "    %matplotlib inline\n",
    "except:\n",
    "    pass\n",
    "\n",
    "from sklearn.decomposition import KernelPCA"
   ]
  },
  {
   "cell_type": "code",
   "execution_count": 9,
   "metadata": {
    "collapsed": true
   },
   "outputs": [],
   "source": [
    "### ONLY FOR GRADING. DO NOT EDIT ###\n",
    "submissions=dict()\n",
    "assignment_key=\"SgjoDxBsEeidDQqwEEcflg\" \n",
    "all_parts=[\"yzL4C\", \"B3CHT\", \"jxlkt\",\"miiAE\",\"VOnND\"]\n",
    "### ONLY FOR GRADING. DO NOT EDIT ###"
   ]
  },
  {
   "cell_type": "code",
   "execution_count": 10,
   "metadata": {
    "collapsed": true
   },
   "outputs": [],
   "source": [
    "# COURSERA_TOKEN = # the key provided to the Student under his/her email on submission page\n",
    "# COURSERA_EMAIL = # the email\n",
    "COURSERA_TOKEN=\"sqR3adQTCCS4Of86\"\n",
    "COURSERA_EMAIL=\"whisper4738@gmail.com\""
   ]
  },
  {
   "cell_type": "code",
   "execution_count": 11,
   "metadata": {
    "collapsed": true
   },
   "outputs": [],
   "source": [
    "def check_for_nulls(df):\n",
    "    \"\"\"\n",
    "    Test and report number of NAs in each column of the input data frame\n",
    "    :param df: pandas.DataFrame\n",
    "    :return: None\n",
    "    \"\"\"\n",
    "    for col in df.columns.values:\n",
    "        num_nans = np.sum(df[col].isnull())\n",
    "        if num_nans > 0:\n",
    "            print('%d Nans in col %s' % (num_nans, col))\n",
    "    print('New shape of df: ', df.shape)"
   ]
  },
  {
   "cell_type": "code",
   "execution_count": 12,
   "metadata": {},
   "outputs": [
    {
     "name": "stdout",
     "output_type": "stream",
     "text": [
      "Asset prices shape (3493, 419)\n"
     ]
    },
    {
     "data": {
      "text/html": [
       "<div>\n",
       "<table border=\"1\" class=\"dataframe\">\n",
       "  <thead>\n",
       "    <tr style=\"text-align: right;\">\n",
       "      <th></th>\n",
       "      <th>A</th>\n",
       "      <th>AA</th>\n",
       "      <th>AAPL</th>\n",
       "      <th>ABC</th>\n",
       "      <th>ABT</th>\n",
       "      <th>ADBE</th>\n",
       "      <th>ADI</th>\n",
       "      <th>ADM</th>\n",
       "      <th>ADP</th>\n",
       "      <th>ADSK</th>\n",
       "      <th>AEE</th>\n",
       "      <th>AEP</th>\n",
       "    </tr>\n",
       "  </thead>\n",
       "  <tbody>\n",
       "    <tr>\n",
       "      <th>2000-01-27</th>\n",
       "      <td>46.1112</td>\n",
       "      <td>78.9443</td>\n",
       "      <td>3.9286</td>\n",
       "      <td>4.5485</td>\n",
       "      <td>13.7898</td>\n",
       "      <td>15.6719</td>\n",
       "      <td>48.0313</td>\n",
       "      <td>10.8844</td>\n",
       "      <td>39.5477</td>\n",
       "      <td>8.1250</td>\n",
       "      <td>32.9375</td>\n",
       "      <td>33.5625</td>\n",
       "    </tr>\n",
       "    <tr>\n",
       "      <th>2000-01-28</th>\n",
       "      <td>45.8585</td>\n",
       "      <td>77.8245</td>\n",
       "      <td>3.6295</td>\n",
       "      <td>4.5485</td>\n",
       "      <td>14.2653</td>\n",
       "      <td>14.3906</td>\n",
       "      <td>47.7500</td>\n",
       "      <td>10.7143</td>\n",
       "      <td>38.5627</td>\n",
       "      <td>7.7188</td>\n",
       "      <td>32.3125</td>\n",
       "      <td>33.0000</td>\n",
       "    </tr>\n",
       "    <tr>\n",
       "      <th>2000-01-31</th>\n",
       "      <td>44.5952</td>\n",
       "      <td>78.0345</td>\n",
       "      <td>3.7054</td>\n",
       "      <td>4.3968</td>\n",
       "      <td>14.5730</td>\n",
       "      <td>13.7656</td>\n",
       "      <td>46.7500</td>\n",
       "      <td>10.6576</td>\n",
       "      <td>37.3807</td>\n",
       "      <td>7.6406</td>\n",
       "      <td>32.5625</td>\n",
       "      <td>33.5000</td>\n",
       "    </tr>\n",
       "    <tr>\n",
       "      <th>2000-02-01</th>\n",
       "      <td>47.8377</td>\n",
       "      <td>80.7640</td>\n",
       "      <td>3.5804</td>\n",
       "      <td>4.5333</td>\n",
       "      <td>14.7128</td>\n",
       "      <td>13.9688</td>\n",
       "      <td>49.0000</td>\n",
       "      <td>10.8844</td>\n",
       "      <td>37.9717</td>\n",
       "      <td>7.9219</td>\n",
       "      <td>32.5625</td>\n",
       "      <td>33.6875</td>\n",
       "    </tr>\n",
       "    <tr>\n",
       "      <th>2000-02-02</th>\n",
       "      <td>51.5434</td>\n",
       "      <td>83.4934</td>\n",
       "      <td>3.5290</td>\n",
       "      <td>4.5788</td>\n",
       "      <td>14.7968</td>\n",
       "      <td>15.3281</td>\n",
       "      <td>48.1250</td>\n",
       "      <td>10.6576</td>\n",
       "      <td>35.9032</td>\n",
       "      <td>7.9688</td>\n",
       "      <td>32.5625</td>\n",
       "      <td>33.6250</td>\n",
       "    </tr>\n",
       "  </tbody>\n",
       "</table>\n",
       "</div>"
      ],
      "text/plain": [
       "                  A       AA    AAPL     ABC      ABT     ADBE      ADI  \\\n",
       "2000-01-27  46.1112  78.9443  3.9286  4.5485  13.7898  15.6719  48.0313   \n",
       "2000-01-28  45.8585  77.8245  3.6295  4.5485  14.2653  14.3906  47.7500   \n",
       "2000-01-31  44.5952  78.0345  3.7054  4.3968  14.5730  13.7656  46.7500   \n",
       "2000-02-01  47.8377  80.7640  3.5804  4.5333  14.7128  13.9688  49.0000   \n",
       "2000-02-02  51.5434  83.4934  3.5290  4.5788  14.7968  15.3281  48.1250   \n",
       "\n",
       "                ADM      ADP    ADSK      AEE      AEP  \n",
       "2000-01-27  10.8844  39.5477  8.1250  32.9375  33.5625  \n",
       "2000-01-28  10.7143  38.5627  7.7188  32.3125  33.0000  \n",
       "2000-01-31  10.6576  37.3807  7.6406  32.5625  33.5000  \n",
       "2000-02-01  10.8844  37.9717  7.9219  32.5625  33.6875  \n",
       "2000-02-02  10.6576  35.9032  7.9688  32.5625  33.6250  "
      ]
     },
     "execution_count": 12,
     "metadata": {},
     "output_type": "execute_result"
    }
   ],
   "source": [
    "# load dataset\n",
    "asset_prices = pd.read_csv('/home/jovyan/work/readonly/spx_holdings_and_spx_closeprice_m2-ex3.csv',\n",
    "                     date_parser=lambda dt: pd.to_datetime(dt, format='%Y-%m-%d'),\n",
    "                     index_col = 0).dropna()\n",
    "n_stocks_show = 12\n",
    "print('Asset prices shape', asset_prices.shape)\n",
    "asset_prices.iloc[:, :n_stocks_show].head()"
   ]
  },
  {
   "cell_type": "code",
   "execution_count": 13,
   "metadata": {},
   "outputs": [
    {
     "name": "stdout",
     "output_type": "stream",
     "text": [
      "Last column contains SPX index prices:\n"
     ]
    },
    {
     "data": {
      "text/html": [
       "<div>\n",
       "<table border=\"1\" class=\"dataframe\">\n",
       "  <thead>\n",
       "    <tr style=\"text-align: right;\">\n",
       "      <th></th>\n",
       "      <th>STJ</th>\n",
       "      <th>SVU</th>\n",
       "      <th>SWY</th>\n",
       "      <th>TEG</th>\n",
       "      <th>TER</th>\n",
       "      <th>TGNA</th>\n",
       "      <th>THC</th>\n",
       "      <th>X</th>\n",
       "      <th>MAR.1</th>\n",
       "      <th>SPX</th>\n",
       "    </tr>\n",
       "  </thead>\n",
       "  <tbody>\n",
       "    <tr>\n",
       "      <th>2000-01-27</th>\n",
       "      <td>5.5918</td>\n",
       "      <td>86.6178</td>\n",
       "      <td>26.3983</td>\n",
       "      <td>11.3873</td>\n",
       "      <td>65.8677</td>\n",
       "      <td>22.1921</td>\n",
       "      <td>60.9705</td>\n",
       "      <td>20.7086</td>\n",
       "      <td>12.2457</td>\n",
       "      <td>1398.56</td>\n",
       "    </tr>\n",
       "    <tr>\n",
       "      <th>2000-01-28</th>\n",
       "      <td>5.4520</td>\n",
       "      <td>82.4218</td>\n",
       "      <td>27.4137</td>\n",
       "      <td>11.2230</td>\n",
       "      <td>60.3487</td>\n",
       "      <td>21.7558</td>\n",
       "      <td>62.3032</td>\n",
       "      <td>20.1183</td>\n",
       "      <td>12.0742</td>\n",
       "      <td>1360.16</td>\n",
       "    </tr>\n",
       "    <tr>\n",
       "      <th>2000-01-31</th>\n",
       "      <td>5.5499</td>\n",
       "      <td>86.3181</td>\n",
       "      <td>28.2444</td>\n",
       "      <td>11.0862</td>\n",
       "      <td>62.1484</td>\n",
       "      <td>22.0533</td>\n",
       "      <td>60.6373</td>\n",
       "      <td>19.5772</td>\n",
       "      <td>12.1722</td>\n",
       "      <td>1394.46</td>\n",
       "    </tr>\n",
       "    <tr>\n",
       "      <th>2000-02-01</th>\n",
       "      <td>5.4240</td>\n",
       "      <td>83.0212</td>\n",
       "      <td>28.7982</td>\n",
       "      <td>11.1683</td>\n",
       "      <td>67.3674</td>\n",
       "      <td>22.2120</td>\n",
       "      <td>60.4708</td>\n",
       "      <td>19.5772</td>\n",
       "      <td>12.5151</td>\n",
       "      <td>1409.28</td>\n",
       "    </tr>\n",
       "    <tr>\n",
       "      <th>2000-02-02</th>\n",
       "      <td>5.3541</td>\n",
       "      <td>81.5226</td>\n",
       "      <td>28.6136</td>\n",
       "      <td>11.1956</td>\n",
       "      <td>68.9271</td>\n",
       "      <td>22.6483</td>\n",
       "      <td>62.4698</td>\n",
       "      <td>19.5281</td>\n",
       "      <td>12.3192</td>\n",
       "      <td>1409.12</td>\n",
       "    </tr>\n",
       "  </tbody>\n",
       "</table>\n",
       "</div>"
      ],
      "text/plain": [
       "               STJ      SVU      SWY      TEG      TER     TGNA      THC  \\\n",
       "2000-01-27  5.5918  86.6178  26.3983  11.3873  65.8677  22.1921  60.9705   \n",
       "2000-01-28  5.4520  82.4218  27.4137  11.2230  60.3487  21.7558  62.3032   \n",
       "2000-01-31  5.5499  86.3181  28.2444  11.0862  62.1484  22.0533  60.6373   \n",
       "2000-02-01  5.4240  83.0212  28.7982  11.1683  67.3674  22.2120  60.4708   \n",
       "2000-02-02  5.3541  81.5226  28.6136  11.1956  68.9271  22.6483  62.4698   \n",
       "\n",
       "                  X    MAR.1      SPX  \n",
       "2000-01-27  20.7086  12.2457  1398.56  \n",
       "2000-01-28  20.1183  12.0742  1360.16  \n",
       "2000-01-31  19.5772  12.1722  1394.46  \n",
       "2000-02-01  19.5772  12.5151  1409.28  \n",
       "2000-02-02  19.5281  12.3192  1409.12  "
      ]
     },
     "execution_count": 13,
     "metadata": {},
     "output_type": "execute_result"
    }
   ],
   "source": [
    "print('Last column contains SPX index prices:')\n",
    "asset_prices.iloc[:, -10:].head()"
   ]
  },
  {
   "cell_type": "code",
   "execution_count": 14,
   "metadata": {},
   "outputs": [
    {
     "name": "stdout",
     "output_type": "stream",
     "text": [
      "New shape of df:  (3493, 419)\n"
     ]
    }
   ],
   "source": [
    "check_for_nulls(asset_prices)"
   ]
  },
  {
   "cell_type": "markdown",
   "metadata": {},
   "source": [
    "Calculate price log-returns"
   ]
  },
  {
   "cell_type": "code",
   "execution_count": 15,
   "metadata": {},
   "outputs": [
    {
     "data": {
      "text/html": [
       "<div>\n",
       "<table border=\"1\" class=\"dataframe\">\n",
       "  <thead>\n",
       "    <tr style=\"text-align: right;\">\n",
       "      <th></th>\n",
       "      <th>A</th>\n",
       "      <th>AA</th>\n",
       "      <th>AAPL</th>\n",
       "      <th>ABC</th>\n",
       "      <th>ABT</th>\n",
       "      <th>ADBE</th>\n",
       "      <th>ADI</th>\n",
       "      <th>ADM</th>\n",
       "      <th>ADP</th>\n",
       "      <th>ADSK</th>\n",
       "      <th>AEE</th>\n",
       "      <th>AEP</th>\n",
       "    </tr>\n",
       "  </thead>\n",
       "  <tbody>\n",
       "    <tr>\n",
       "      <th>2000-01-28</th>\n",
       "      <td>-0.005495</td>\n",
       "      <td>-0.014286</td>\n",
       "      <td>-0.079188</td>\n",
       "      <td>0.000000</td>\n",
       "      <td>0.033901</td>\n",
       "      <td>-0.085294</td>\n",
       "      <td>-0.005874</td>\n",
       "      <td>-0.015751</td>\n",
       "      <td>-0.025222</td>\n",
       "      <td>-0.051287</td>\n",
       "      <td>-0.019158</td>\n",
       "      <td>-0.016902</td>\n",
       "    </tr>\n",
       "    <tr>\n",
       "      <th>2000-01-31</th>\n",
       "      <td>-0.027934</td>\n",
       "      <td>0.002695</td>\n",
       "      <td>0.020696</td>\n",
       "      <td>-0.033921</td>\n",
       "      <td>0.021340</td>\n",
       "      <td>-0.044402</td>\n",
       "      <td>-0.021165</td>\n",
       "      <td>-0.005306</td>\n",
       "      <td>-0.031131</td>\n",
       "      <td>-0.010183</td>\n",
       "      <td>0.007707</td>\n",
       "      <td>0.015038</td>\n",
       "    </tr>\n",
       "    <tr>\n",
       "      <th>2000-02-01</th>\n",
       "      <td>0.070188</td>\n",
       "      <td>0.034380</td>\n",
       "      <td>-0.034317</td>\n",
       "      <td>0.030573</td>\n",
       "      <td>0.009547</td>\n",
       "      <td>0.014654</td>\n",
       "      <td>0.047006</td>\n",
       "      <td>0.021057</td>\n",
       "      <td>0.015687</td>\n",
       "      <td>0.036155</td>\n",
       "      <td>0.000000</td>\n",
       "      <td>0.005581</td>\n",
       "    </tr>\n",
       "    <tr>\n",
       "      <th>2000-02-02</th>\n",
       "      <td>0.074610</td>\n",
       "      <td>0.033236</td>\n",
       "      <td>-0.014460</td>\n",
       "      <td>0.009987</td>\n",
       "      <td>0.005693</td>\n",
       "      <td>0.092861</td>\n",
       "      <td>-0.018019</td>\n",
       "      <td>-0.021057</td>\n",
       "      <td>-0.056015</td>\n",
       "      <td>0.005903</td>\n",
       "      <td>0.000000</td>\n",
       "      <td>-0.001857</td>\n",
       "    </tr>\n",
       "    <tr>\n",
       "      <th>2000-02-03</th>\n",
       "      <td>0.016208</td>\n",
       "      <td>-0.031506</td>\n",
       "      <td>0.044531</td>\n",
       "      <td>-0.006639</td>\n",
       "      <td>0.005654</td>\n",
       "      <td>0.119028</td>\n",
       "      <td>0.094129</td>\n",
       "      <td>0.000000</td>\n",
       "      <td>0.065054</td>\n",
       "      <td>0.034679</td>\n",
       "      <td>0.011451</td>\n",
       "      <td>0.032910</td>\n",
       "    </tr>\n",
       "  </tbody>\n",
       "</table>\n",
       "</div>"
      ],
      "text/plain": [
       "                   A        AA      AAPL       ABC       ABT      ADBE  \\\n",
       "2000-01-28 -0.005495 -0.014286 -0.079188  0.000000  0.033901 -0.085294   \n",
       "2000-01-31 -0.027934  0.002695  0.020696 -0.033921  0.021340 -0.044402   \n",
       "2000-02-01  0.070188  0.034380 -0.034317  0.030573  0.009547  0.014654   \n",
       "2000-02-02  0.074610  0.033236 -0.014460  0.009987  0.005693  0.092861   \n",
       "2000-02-03  0.016208 -0.031506  0.044531 -0.006639  0.005654  0.119028   \n",
       "\n",
       "                 ADI       ADM       ADP      ADSK       AEE       AEP  \n",
       "2000-01-28 -0.005874 -0.015751 -0.025222 -0.051287 -0.019158 -0.016902  \n",
       "2000-01-31 -0.021165 -0.005306 -0.031131 -0.010183  0.007707  0.015038  \n",
       "2000-02-01  0.047006  0.021057  0.015687  0.036155  0.000000  0.005581  \n",
       "2000-02-02 -0.018019 -0.021057 -0.056015  0.005903  0.000000 -0.001857  \n",
       "2000-02-03  0.094129  0.000000  0.065054  0.034679  0.011451  0.032910  "
      ]
     },
     "execution_count": 15,
     "metadata": {},
     "output_type": "execute_result"
    }
   ],
   "source": [
    "asset_returns = np.log(asset_prices) - np.log(asset_prices.shift(1))\n",
    "asset_returns = asset_returns.iloc[1:, :]\n",
    "asset_returns.iloc[:, :n_stocks_show].head()"
   ]
  },
  {
   "cell_type": "markdown",
   "metadata": {},
   "source": [
    "### Part 1 (Calculate Moving Average)\n",
    "**Instructions:**\n",
    "\n",
    "- Calculate 20 and 100-day moving average of SPX Index price based on **spx_index** pd.core.series.Series\n",
    "- Assign results to **short_rolling_spx** and **long_rolling_spx** respectively\n"
   ]
  },
  {
   "cell_type": "code",
   "execution_count": 16,
   "metadata": {
    "scrolled": false
   },
   "outputs": [
    {
     "data": {
      "image/png": "[encoded data removed]",
      "text/plain": [
       "<matplotlib.figure.Figure at 0x7fc1951e3588>"
      ]
     },
     "metadata": {},
     "output_type": "display_data"
    }
   ],
   "source": [
    "# Get the SPX time series. This now returns a Pandas Series object indexed by date.# Get t \n",
    "spx_index = asset_prices.loc[:, 'SPX']\n",
    "\n",
    "short_rolling_spx = pd.core.series.Series(np.zeros(len(asset_prices.index)), index=asset_prices.index)\n",
    "long_rolling_spx = short_rolling_spx\n",
    "\n",
    "# Calculate the 20 and 100 days moving averages of log-returns\n",
    "short_rolling_spx = spx_index.rolling(window=20).mean()\n",
    "long_rolling_spx = spx_index.rolling(window=100).mean()\n",
    "\n",
    "\n",
    "# Plot the index and rolling averages\n",
    "fig=plt.figure(figsize=(12, 5), dpi= 80, facecolor='w', edgecolor='k')\n",
    "ax = fig.add_subplot(1, 1, 1)\n",
    "ax.plot(spx_index.index, spx_index, label='SPX Index')\n",
    "ax.plot(short_rolling_spx.index, short_rolling_spx, label='20 days rolling')\n",
    "ax.plot(long_rolling_spx.index, long_rolling_spx, label='100 days rolling')\n",
    "ax.set_xlabel('Date')\n",
    "ax.set_ylabel('Log returns')\n",
    "ax.legend(loc=2)\n",
    "plt.show()"
   ]
  },
  {
   "cell_type": "code",
   "execution_count": 17,
   "metadata": {},
   "outputs": [
    {
     "name": "stdout",
     "output_type": "stream",
     "text": [
      "Submission successful, please check on the coursera grader page for the status\n"
     ]
    },
    {
     "data": {
      "text/plain": [
       "array([ 2939.2689,  2065.8155,  2428.6888,  2323.5646,  2228.6512,\n",
       "        2832.7891,  2771.952 ,  1765.647 ,  2230.2738,  2360.8532,\n",
       "        2222.0255,  2596.199 ,  1932.6528,  2930.1697,  2539.8038,\n",
       "        2747.3836,  2834.7257,  3501.9293,  1912.125 ,  2172.2049,\n",
       "        2534.7048,  2427.7477,  2187.8932,  2356.6817,  2238.3179,\n",
       "        1994.9164,  2388.5834,  2254.9847,  3515.196 ,  2921.5941,\n",
       "        1903.9954,  1854.4656,  2468.9543,  2207.0963,  2234.2487,\n",
       "        2206.5196,  2610.0842,  2654.0074,  2248.4479,  2950.6151,\n",
       "        2534.5414,  2675.5777,  2643.7591,  2675.5777,  1868.7086,\n",
       "        2928.2838,  2391.709 ,  2439.4625,  2536.4369,  3004.7813])"
      ]
     },
     "execution_count": 17,
     "metadata": {},
     "output_type": "execute_result"
    }
   ],
   "source": [
    "### GRADED PART (DO NOT EDIT) ###\n",
    "np.random.seed(42)\n",
    "idx_test = np.random.randint(low=100, high=len(short_rolling_spx), size=50)\n",
    "result = short_rolling_spx.values[idx_test] + long_rolling_spx.values[idx_test] \n",
    "\n",
    "\n",
    "### grading results ###\n",
    "part_1 = list(result.squeeze())\n",
    "try:\n",
    "    part1 = \" \".join(map(repr, part_1))\n",
    "except TypeError:\n",
    "    part1 = repr(part_1)\n",
    "submissions[all_parts[0]]=part1\n",
    "grading.submit(COURSERA_EMAIL, COURSERA_TOKEN, assignment_key,all_parts[:1],all_parts,submissions)\n",
    "result.squeeze()\n",
    "### GRADED PART (DO NOT EDIT) ###"
   ]
  },
  {
   "cell_type": "markdown",
   "metadata": {},
   "source": [
    "### Apply scikit-learn StandardScaler to stocks log-returns"
   ]
  },
  {
   "cell_type": "code",
   "execution_count": 18,
   "metadata": {},
   "outputs": [
    {
     "data": {
      "text/html": [
       "<div>\n",
       "<table border=\"1\" class=\"dataframe\">\n",
       "  <thead>\n",
       "    <tr style=\"text-align: right;\">\n",
       "      <th></th>\n",
       "      <th>A</th>\n",
       "      <th>AA</th>\n",
       "      <th>AAPL</th>\n",
       "      <th>ABC</th>\n",
       "      <th>ABT</th>\n",
       "      <th>ADBE</th>\n",
       "      <th>ADI</th>\n",
       "      <th>ADM</th>\n",
       "      <th>ADP</th>\n",
       "      <th>ADSK</th>\n",
       "    </tr>\n",
       "  </thead>\n",
       "  <tbody>\n",
       "    <tr>\n",
       "      <th>2000-01-28</th>\n",
       "      <td>-0.177095</td>\n",
       "      <td>-0.503576</td>\n",
       "      <td>-2.684641</td>\n",
       "      <td>-0.040166</td>\n",
       "      <td>2.149514</td>\n",
       "      <td>-2.773218</td>\n",
       "      <td>-0.199237</td>\n",
       "      <td>-0.761249</td>\n",
       "      <td>-1.539968</td>\n",
       "      <td>-1.829376</td>\n",
       "    </tr>\n",
       "    <tr>\n",
       "      <th>2000-01-31</th>\n",
       "      <td>-0.904935</td>\n",
       "      <td>0.110571</td>\n",
       "      <td>0.665376</td>\n",
       "      <td>-1.782203</td>\n",
       "      <td>1.346264</td>\n",
       "      <td>-1.449596</td>\n",
       "      <td>-0.716880</td>\n",
       "      <td>-0.268812</td>\n",
       "      <td>-1.898412</td>\n",
       "      <td>-0.377810</td>\n",
       "    </tr>\n",
       "    <tr>\n",
       "      <th>2000-02-01</th>\n",
       "      <td>2.277787</td>\n",
       "      <td>1.256534</td>\n",
       "      <td>-1.179699</td>\n",
       "      <td>1.529962</td>\n",
       "      <td>0.592079</td>\n",
       "      <td>0.461992</td>\n",
       "      <td>1.590897</td>\n",
       "      <td>0.974079</td>\n",
       "      <td>0.941618</td>\n",
       "      <td>1.258580</td>\n",
       "    </tr>\n",
       "    <tr>\n",
       "      <th>2000-02-02</th>\n",
       "      <td>2.421231</td>\n",
       "      <td>1.215159</td>\n",
       "      <td>-0.513727</td>\n",
       "      <td>0.472721</td>\n",
       "      <td>0.345593</td>\n",
       "      <td>2.993509</td>\n",
       "      <td>-0.610369</td>\n",
       "      <td>-1.011401</td>\n",
       "      <td>-3.407901</td>\n",
       "      <td>0.190245</td>\n",
       "    </tr>\n",
       "    <tr>\n",
       "      <th>2000-02-03</th>\n",
       "      <td>0.526866</td>\n",
       "      <td>-1.126343</td>\n",
       "      <td>1.464752</td>\n",
       "      <td>-0.381145</td>\n",
       "      <td>0.343102</td>\n",
       "      <td>3.840506</td>\n",
       "      <td>3.186137</td>\n",
       "      <td>-0.018661</td>\n",
       "      <td>3.936335</td>\n",
       "      <td>1.206468</td>\n",
       "    </tr>\n",
       "  </tbody>\n",
       "</table>\n",
       "</div>"
      ],
      "text/plain": [
       "                   A        AA      AAPL       ABC       ABT      ADBE  \\\n",
       "2000-01-28 -0.177095 -0.503576 -2.684641 -0.040166  2.149514 -2.773218   \n",
       "2000-01-31 -0.904935  0.110571  0.665376 -1.782203  1.346264 -1.449596   \n",
       "2000-02-01  2.277787  1.256534 -1.179699  1.529962  0.592079  0.461992   \n",
       "2000-02-02  2.421231  1.215159 -0.513727  0.472721  0.345593  2.993509   \n",
       "2000-02-03  0.526866 -1.126343  1.464752 -0.381145  0.343102  3.840506   \n",
       "\n",
       "                 ADI       ADM       ADP      ADSK  \n",
       "2000-01-28 -0.199237 -0.761249 -1.539968 -1.829376  \n",
       "2000-01-31 -0.716880 -0.268812 -1.898412 -0.377810  \n",
       "2000-02-01  1.590897  0.974079  0.941618  1.258580  \n",
       "2000-02-02 -0.610369 -1.011401 -3.407901  0.190245  \n",
       "2000-02-03  3.186137 -0.018661  3.936335  1.206468  "
      ]
     },
     "execution_count": 18,
     "metadata": {},
     "output_type": "execute_result"
    }
   ],
   "source": [
    "from sklearn.preprocessing import StandardScaler\n",
    "\n",
    "# Standardize features by removing the mean and scaling to unit variance\n",
    "# Centering and scaling happen independently on each feature by computing the relevant statistics \n",
    "# on the samples in the training set. Mean and standard deviation are then stored to be used on later \n",
    "# data using the transform method.\n",
    "# http://scikit-learn.org/stable/modules/generated/sklearn.preprocessing.StandardScaler.html\n",
    "\n",
    "log_ret_mat_std = StandardScaler().fit_transform(asset_returns.values)\n",
    "log_ret_df_std = pd.DataFrame(data=log_ret_mat_std, \n",
    "                              index=asset_returns.index,\n",
    "                              columns=asset_returns.columns.values) \n",
    "log_ret_df_std.iloc[:, :10].head()"
   ]
  },
  {
   "cell_type": "code",
   "execution_count": 19,
   "metadata": {},
   "outputs": [
    {
     "data": {
      "image/png": "[encoded data removed]",
      "text/plain": [
       "<matplotlib.figure.Figure at 0x7fc1948e8940>"
      ]
     },
     "metadata": {},
     "output_type": "display_data"
    }
   ],
   "source": [
    "# Calculate the 20 and 100 days moving averages of the log-returns\n",
    "short_rolling_spx = log_ret_df_std[['SPX']].rolling(window=20).mean()\n",
    "long_rolling_spx = log_ret_df_std[['SPX']].rolling(window=100).mean()\n",
    "\n",
    "# Plot the index and rolling averages\n",
    "fig=plt.figure(figsize=(12, 5), dpi= 80, facecolor='w', edgecolor='k')\n",
    "ax = fig.add_subplot(1,1,1)\n",
    "ax.plot(log_ret_df_std.index, log_ret_df_std[['SPX']], label='SPX Index')\n",
    "ax.plot(short_rolling_spx.index, short_rolling_spx, label='20 days rolling')\n",
    "ax.plot(long_rolling_spx.index, long_rolling_spx, label='100 days rolling')\n",
    "ax.set_xlabel('Date')\n",
    "ax.set_ylabel('Log returns')\n",
    "ax.legend(loc=2)\n",
    "plt.show()"
   ]
  },
  {
   "cell_type": "code",
   "execution_count": 20,
   "metadata": {},
   "outputs": [
    {
     "name": "stdout",
     "output_type": "stream",
     "text": [
      "crisis_2001_2002 635\n",
      "crisis_2007_2009 354\n",
      "(3492, 420)\n",
      "Last N days of the dataset:\n"
     ]
    },
    {
     "data": {
      "text/html": [
       "<div>\n",
       "<table border=\"1\" class=\"dataframe\">\n",
       "  <thead>\n",
       "    <tr style=\"text-align: right;\">\n",
       "      <th></th>\n",
       "      <th>A</th>\n",
       "      <th>AA</th>\n",
       "      <th>AAPL</th>\n",
       "      <th>ABC</th>\n",
       "      <th>ABT</th>\n",
       "      <th>ADBE</th>\n",
       "      <th>ADI</th>\n",
       "      <th>ADM</th>\n",
       "      <th>ADP</th>\n",
       "      <th>ADSK</th>\n",
       "    </tr>\n",
       "  </thead>\n",
       "  <tbody>\n",
       "    <tr>\n",
       "      <th>2013-12-16</th>\n",
       "      <td>0.048156</td>\n",
       "      <td>0.240452</td>\n",
       "      <td>0.156457</td>\n",
       "      <td>-0.040166</td>\n",
       "      <td>0.209504</td>\n",
       "      <td>-1.308457</td>\n",
       "      <td>0.229593</td>\n",
       "      <td>0.353842</td>\n",
       "      <td>0.378619</td>\n",
       "      <td>-0.431163</td>\n",
       "    </tr>\n",
       "    <tr>\n",
       "      <th>2013-12-17</th>\n",
       "      <td>0.657942</td>\n",
       "      <td>0.501195</td>\n",
       "      <td>-0.180108</td>\n",
       "      <td>-0.115249</td>\n",
       "      <td>0.121412</td>\n",
       "      <td>-0.474871</td>\n",
       "      <td>0.138236</td>\n",
       "      <td>0.922656</td>\n",
       "      <td>-0.217628</td>\n",
       "      <td>0.216760</td>\n",
       "    </tr>\n",
       "    <tr>\n",
       "      <th>2013-12-18</th>\n",
       "      <td>0.864258</td>\n",
       "      <td>0.494531</td>\n",
       "      <td>-0.284769</td>\n",
       "      <td>0.897945</td>\n",
       "      <td>2.566273</td>\n",
       "      <td>0.747634</td>\n",
       "      <td>0.575724</td>\n",
       "      <td>1.831260</td>\n",
       "      <td>1.417926</td>\n",
       "      <td>0.549664</td>\n",
       "    </tr>\n",
       "    <tr>\n",
       "      <th>2013-12-19</th>\n",
       "      <td>-0.285876</td>\n",
       "      <td>0.524670</td>\n",
       "      <td>-0.415206</td>\n",
       "      <td>-0.025413</td>\n",
       "      <td>-0.169652</td>\n",
       "      <td>-0.515127</td>\n",
       "      <td>-0.082096</td>\n",
       "      <td>0.686380</td>\n",
       "      <td>0.246457</td>\n",
       "      <td>-0.183206</td>\n",
       "    </tr>\n",
       "    <tr>\n",
       "      <th>2013-12-20</th>\n",
       "      <td>-0.237193</td>\n",
       "      <td>-0.095901</td>\n",
       "      <td>0.250960</td>\n",
       "      <td>0.099780</td>\n",
       "      <td>-0.338791</td>\n",
       "      <td>0.610861</td>\n",
       "      <td>0.237364</td>\n",
       "      <td>-0.483890</td>\n",
       "      <td>0.404861</td>\n",
       "      <td>0.813525</td>\n",
       "    </tr>\n",
       "  </tbody>\n",
       "</table>\n",
       "</div>"
      ],
      "text/plain": [
       "                   A        AA      AAPL       ABC       ABT      ADBE  \\\n",
       "2013-12-16  0.048156  0.240452  0.156457 -0.040166  0.209504 -1.308457   \n",
       "2013-12-17  0.657942  0.501195 -0.180108 -0.115249  0.121412 -0.474871   \n",
       "2013-12-18  0.864258  0.494531 -0.284769  0.897945  2.566273  0.747634   \n",
       "2013-12-19 -0.285876  0.524670 -0.415206 -0.025413 -0.169652 -0.515127   \n",
       "2013-12-20 -0.237193 -0.095901  0.250960  0.099780 -0.338791  0.610861   \n",
       "\n",
       "                 ADI       ADM       ADP      ADSK  \n",
       "2013-12-16  0.229593  0.353842  0.378619 -0.431163  \n",
       "2013-12-17  0.138236  0.922656 -0.217628  0.216760  \n",
       "2013-12-18  0.575724  1.831260  1.417926  0.549664  \n",
       "2013-12-19 -0.082096  0.686380  0.246457 -0.183206  \n",
       "2013-12-20  0.237364 -0.483890  0.404861  0.813525  "
      ]
     },
     "execution_count": 20,
     "metadata": {},
     "output_type": "execute_result"
    }
   ],
   "source": [
    "# Assign a label 'regime' to each date:\n",
    "# 'regime' = 'benign' for all points except two intervals\n",
    "# 'regime' = 'crisis_2001_2002', or\n",
    "# 'regime = ', 'crisis_2007-2009'\n",
    "\n",
    "# first assign the default value for all rows\n",
    "log_ret_df_std['regime'] = 'benign'\n",
    "dt_start = np.datetime64('2000-03-24T00:00:00.000000000')\n",
    "dt_end = np.datetime64('2002-10-09T00:00:00.000000000')\n",
    "flag_crisis_2001_2002 = np.logical_and(log_ret_df_std.index > dt_start, log_ret_df_std.index < dt_end)\n",
    "\n",
    "dt_start = np.datetime64('2007-10-09T00:00:00.000000000')\n",
    "dt_end = np.datetime64('2009-03-09T00:00:00.000000000')\n",
    "flag_crisis_2007_2009 = np.logical_and(log_ret_df_std.index > dt_start, log_ret_df_std.index < dt_end)\n",
    "\n",
    "log_ret_df_std.loc[flag_crisis_2001_2002,'regime'] = 'crisis_2001_2002'\n",
    "log_ret_df_std.loc[flag_crisis_2007_2009, 'regime'] = 'crisis_2007_2009'\n",
    "\n",
    "print('crisis_2001_2002', log_ret_df_std[log_ret_df_std.regime == 'crisis_2001_2002'].shape[0])\n",
    "print('crisis_2007_2009', log_ret_df_std[log_ret_df_std.regime == 'crisis_2007_2009'].shape[0])\n",
    "print(log_ret_df_std.shape)\n",
    "\n",
    "print('Last N days of the dataset:')\n",
    "log_ret_df_std.iloc[:, :10].tail()"
   ]
  },
  {
   "cell_type": "code",
   "execution_count": 21,
   "metadata": {},
   "outputs": [
    {
     "name": "stdout",
     "output_type": "stream",
     "text": [
      "Train dataset: (3055, 420)\n",
      "Test dataset: (437, 420)\n"
     ]
    }
   ],
   "source": [
    "# use data before 2012-03-26 for training, and data after it for testing\n",
    "\n",
    "train_end = datetime.datetime(2012, 3, 26) \n",
    "df_train = log_ret_df_std[log_ret_df_std.index <= train_end].copy()\n",
    "df_test = log_ret_df_std[log_ret_df_std.index > train_end].copy()\n",
    "print('Train dataset:', df_train.shape)\n",
    "print('Test dataset:', df_test.shape)"
   ]
  },
  {
   "cell_type": "markdown",
   "metadata": {},
   "source": [
    "### Part 2 (Returns regression on SPX Index)\n",
    "**Instructions:**\n",
    "\n",
    "- Compute $R^2$, $\\alpha$, and $\\beta$ for in-sample and out-of-sample regressing each stock returns on SPX returns. Use df_train and df_test data. \n",
    "- Store  in-sample $R^2$ in **R2_in_sample** list\n",
    "- Store  out-of-sample $R^2$ in **R2_out_sample** list\n"
   ]
  },
  {
   "cell_type": "code",
   "execution_count": 22,
   "metadata": {},
   "outputs": [
    {
     "name": "stderr",
     "output_type": "stream",
     "text": [
      "/opt/conda/lib/python3.6/site-packages/ipykernel_launcher.py:17: FutureWarning: reshape is deprecated and will raise in a subsequent release. Please use .values.reshape(...) instead\n",
      "/opt/conda/lib/python3.6/site-packages/ipykernel_launcher.py:21: FutureWarning: reshape is deprecated and will raise in a subsequent release. Please use .values.reshape(...) instead\n"
     ]
    },
    {
     "ename": "NameError",
     "evalue": "name 'r2_score' is not defined",
     "output_type": "error",
     "traceback": [
      "\u001b[0;31m---------------------------------------------------------------------------\u001b[0m",
      "\u001b[0;31mNameError\u001b[0m                                 Traceback (most recent call last)",
      "\u001b[0;32m<ipython-input-22-f3483060cd72>\u001b[0m in \u001b[0;36m<module>\u001b[0;34m()\u001b[0m\n\u001b[1;32m     20\u001b[0m \u001b[0;34m\u001b[0m\u001b[0m\n\u001b[1;32m     21\u001b[0m     \u001b[0mdf_pred\u001b[0m \u001b[0;34m=\u001b[0m \u001b[0mlm\u001b[0m\u001b[0;34m.\u001b[0m\u001b[0mpredict\u001b[0m\u001b[0;34m(\u001b[0m\u001b[0mdf_train\u001b[0m\u001b[0;34m[\u001b[0m\u001b[0;34m'SPX'\u001b[0m\u001b[0;34m]\u001b[0m\u001b[0;34m.\u001b[0m\u001b[0mreshape\u001b[0m\u001b[0;34m(\u001b[0m\u001b[0;34m(\u001b[0m\u001b[0;36m3055\u001b[0m\u001b[0;34m,\u001b[0m \u001b[0;36m1\u001b[0m\u001b[0;34m)\u001b[0m\u001b[0;34m)\u001b[0m\u001b[0;34m)\u001b[0m\u001b[0;34m\u001b[0m\u001b[0m\n\u001b[0;32m---> 22\u001b[0;31m     \u001b[0mR2_in_sample\u001b[0m\u001b[0;34m[\u001b[0m\u001b[0mi\u001b[0m\u001b[0;34m]\u001b[0m \u001b[0;34m=\u001b[0m \u001b[0mr2_score\u001b[0m\u001b[0;34m(\u001b[0m\u001b[0mdf_train\u001b[0m\u001b[0;34m[\u001b[0m\u001b[0mstock\u001b[0m\u001b[0;34m]\u001b[0m\u001b[0;34m,\u001b[0m \u001b[0mdf_pred\u001b[0m\u001b[0;34m)\u001b[0m\u001b[0;34m\u001b[0m\u001b[0m\n\u001b[0m\u001b[1;32m     23\u001b[0m \u001b[0;34m\u001b[0m\u001b[0m\n\u001b[1;32m     24\u001b[0m     \u001b[0mdf_pred\u001b[0m \u001b[0;34m=\u001b[0m \u001b[0mlm\u001b[0m\u001b[0;34m.\u001b[0m\u001b[0mpredict\u001b[0m\u001b[0;34m(\u001b[0m\u001b[0mdf_test\u001b[0m\u001b[0;34m[\u001b[0m\u001b[0;34m'SPX'\u001b[0m\u001b[0;34m]\u001b[0m\u001b[0;34m.\u001b[0m\u001b[0mreshape\u001b[0m\u001b[0;34m(\u001b[0m\u001b[0;34m(\u001b[0m\u001b[0;36m437\u001b[0m\u001b[0;34m,\u001b[0m \u001b[0;36m1\u001b[0m\u001b[0;34m)\u001b[0m\u001b[0;34m)\u001b[0m\u001b[0;34m)\u001b[0m\u001b[0;34m\u001b[0m\u001b[0m\n",
      "\u001b[0;31mNameError\u001b[0m: name 'r2_score' is not defined"
     ]
    }
   ],
   "source": [
    "# regress each individual stock on the market\n",
    "\n",
    "from sklearn.linear_model import LinearRegression\n",
    "from sklearn.metrics import r2_score\n",
    "\n",
    "# create a Linear Regression object\n",
    "lm = LinearRegression()\n",
    "stock_tickers = asset_returns.columns.values[:-1] # exclude SPX\n",
    "\n",
    "# compute betas for all stocks in the dataset\n",
    "R2_in_sample = [0.] * len(stock_tickers)\n",
    "R2_out_sample = [0.] * len(stock_tickers)\n",
    "betas = [0.] * len(stock_tickers)\n",
    "alphas = [0.] * len(stock_tickers)\n",
    "\n",
    "stocks = df_train.columns.values[:-2]\n",
    "for i, stock in enumerate(stocks):\n",
    "    lm.fit(df_train['SPX'].reshape((3055, 1)), df_train[stock].reshape((3055, 1)))\n",
    "    betas[i] = lm.coef_[0][0]\n",
    "    alphas[i] = lm.intercept_[0]\n",
    "    \n",
    "    df_pred = lm.predict(df_train['SPX'].reshape((3055, 1)))\n",
    "    R2_in_sample[i] = r2_score(df_train[stock], df_pred)\n",
    "    \n",
    "    df_pred = lm.predict(df_test['SPX'].reshape((437, 1)))\n",
    "    R2_out_sample[i] = r2_score(df_test[stock].reshape((437, 1)), df_pred)"
   ]
  },
  {
   "cell_type": "code",
   "execution_count": null,
   "metadata": {
    "collapsed": true
   },
   "outputs": [],
   "source": [
    "df_lr = pd.DataFrame({'R2 in-sample': R2_in_sample, 'R2 out-sample': R2_out_sample, 'Alpha': alphas, 'Beta': betas}, \n",
    "                     index=stock_tickers)\n",
    "df_lr.head(10)"
   ]
  },
  {
   "cell_type": "code",
   "execution_count": null,
   "metadata": {
    "collapsed": true
   },
   "outputs": [],
   "source": [
    "### GRADED PART (DO NOT EDIT) ###\n",
    "\n",
    "np.random.seed(42)\n",
    "idx = np.random.randint(low=0, high=df_lr.shape[0], size=50)\n",
    "### grading results ###\n",
    "part_2 = list(df_lr.as_matrix()[idx, :].flatten())\n",
    "try:\n",
    "    part2 = \" \".join(map(repr, part_2))\n",
    "except TypeError:\n",
    "    part2 = repr(part_2)\n",
    "\n",
    "submissions[all_parts[1]]=part2\n",
    "grading.submit(COURSERA_EMAIL, COURSERA_TOKEN, assignment_key,all_parts[:2],all_parts,submissions)\n",
    "\n",
    "df_lr.as_matrix()[idx, :].flatten()\n",
    "### GRADED PART (DO NOT EDIT) ###"
   ]
  },
  {
   "cell_type": "markdown",
   "metadata": {},
   "source": [
    "#### Part 3 (Calculation of unexpected log-returns)\n",
    "**Instructions:**\n",
    "- Use **df_train**  and calculated in Part 2 **df_lr** with $\\beta$ and $\\alpha$ to compute unexpected log returns\n",
    "- Calculate unexplained log-returns as difference between the stock return and its value, \"predicted\" by the index return.\n",
    "\n",
    "$$ \\epsilon^i_t = R^i_t - \\alpha_i - \\beta_i R^M_t$$\n",
    "- Store unexplained log-returns in df_unexplained pnadas.DataFrame"
   ]
  },
  {
   "cell_type": "code",
   "execution_count": null,
   "metadata": {
    "collapsed": true
   },
   "outputs": [],
   "source": [
    "df_unexplained = df_train.loc[:, stock_tickers]\n",
    "\n",
    "df_ = pd.DataFrame(index=df_train.index, columns=stocks)\n",
    "df_ = df_.fillna(0)\n",
    "df_pred = (df_.T + df_train['SPX'].values).T \n",
    "df_unexplained = df_train[stocks] - df_lr['Alpha'] - df_lr['Beta'] * df_pred\n",
    "\n",
    "print('Unexplained log-returns of S&P 500 Index stocks', df_unexplained.shape)\n",
    "print('Unexplained log-returns of S&P 500 Index stocks:')\n",
    "df_unexplained.iloc[:, :10].head()"
   ]
  },
  {
   "cell_type": "code",
   "execution_count": null,
   "metadata": {
    "collapsed": true
   },
   "outputs": [],
   "source": [
    "### GRADED PART (DO NOT EDIT) ###\n",
    "np.random.seed(42)\n",
    "idx_row = np.random.randint(low=0, high=df_lr.shape[0], size=100)\n",
    "np.random.seed(42)\n",
    "idx_col = np.random.randint(low=0, high=df_lr.shape[1], size=100)\n",
    "\n",
    "# grading\n",
    "part_3=list(df_unexplained.as_matrix()[idx_row, idx_col])\n",
    "try:\n",
    "    part3 = \" \".join(map(repr, part_3))\n",
    "except TypeError:\n",
    "    part3 = repr(part_3)\n",
    "\n",
    "submissions[all_parts[2]]=part3\n",
    "grading.submit(COURSERA_EMAIL, COURSERA_TOKEN, assignment_key,all_parts[:3],all_parts,submissions)\n",
    "df_unexplained.as_matrix()[idx_row, idx_col]\n",
    "### GRADED PART (DO NOT EDIT) ###"
   ]
  },
  {
   "cell_type": "markdown",
   "metadata": {},
   "source": [
    "#### Part 4 (Kernel PCA of Covariance Matrix of Returns)\n",
    "\n",
    "**Instructions:**\n",
    "- Perform Kernel PCA with 1 component using returns data **df_test** for all stocks in df_test\n",
    "- Transform original mapping in the coordinates of the first principal component\n",
    "- Assign tranformed returns to PCA_1 in **** DataFrame\n",
    " "
   ]
  },
  {
   "cell_type": "code",
   "execution_count": null,
   "metadata": {
    "collapsed": true
   },
   "outputs": [],
   "source": [
    "import seaborn as sns\n",
    "sns.pairplot(df_train.loc[:, ['SPX', 'GE', 'AAPL', 'MSFT', 'regime']], \n",
    "             vars=['SPX', 'GE', 'AAPL', 'MSFT'], hue=\"regime\", size=4.5)"
   ]
  },
  {
   "cell_type": "code",
   "execution_count": null,
   "metadata": {
    "collapsed": true
   },
   "outputs": [],
   "source": [
    "stock_tickers = asset_returns.columns.values[:-1]\n",
    "assert 'SPX' not in stock_tickers, \"By accident included SPX index\"\n",
    "data = df_test[stock_tickers].values\n",
    "\n",
    "df_index_test = pd.DataFrame(data=df_test['SPX'].values, index=df_test.index, columns=['SPX'])\n",
    "df_index_test['PCA_1'] = np.ones(len(df_test.index)) \n",
    "\n",
    "### START CODE HERE ### (≈ 2-3 lines of code)\n",
    "# please set random_state=42 when initializing Kernel PCA\n",
    "\n",
    "### GRADED PART (DO NOT EDIT) ###\n",
    "\n",
    "# draw the two plots\n",
    "df_plot = df_index_test[['SPX', 'PCA_1']].apply(lambda x: (x - x.mean()) / x.std())\n",
    "df_plot.plot(figsize=(12, 6), title='Index replication via PCA')"
   ]
  },
  {
   "cell_type": "code",
   "execution_count": null,
   "metadata": {
    "collapsed": true
   },
   "outputs": [],
   "source": [
    "### GRADED PART (DO NOT EDIT) ###\n",
    "np.random.seed(42)\n",
    "transformed_first_pc = df_index_test['PCA_1'].values\n",
    "idx_test = np.random.randint(low=0, high=len(transformed_first_pc), size=100)\n",
    "\n",
    "#grading\n",
    "part_4=list(np.absolute(transformed_first_pc[idx_test]))\n",
    "try:\n",
    "    part4 = \" \".join(map(repr, part_4))\n",
    "except TypeError:\n",
    "    part4 = repr(part_4)\n",
    "\n",
    "submissions[all_parts[3]]=part4\n",
    "grading.submit(COURSERA_EMAIL, COURSERA_TOKEN, assignment_key,all_parts[:4],all_parts,submissions)\n",
    "\n",
    "np.absolute(transformed_first_pc[idx_test]) # because PCA results match down to a sign\n",
    "### GRADED PART (DO NOT EDIT) ###"
   ]
  },
  {
   "cell_type": "markdown",
   "metadata": {},
   "source": [
    "### Part 5 (Visualization with t-SNE)\n",
    "\n",
    "Lets turn attention to a popular dimensonality reduction algorithm: t-distributed stochastic neighbor embedding (t-SNE). Developed by Laurens van der Maaten and Geoffrey Hinton (see the original paper here), this algorithm has been successfully applied to many real-world datasets. \n",
    "\n",
    "The t-SNE algorithm provides an effective method to visualize a complex dataset. It successfully uncovers hidden structures in the data, exposing natural clusters and smooth nonlinear variations along the dimensions. It has been implemented in many languages, including Python, and it can be easily used thanks to the scikit-learn library.\n",
    "\n",
    "**Instructions:**\n",
    "- Fit TSNE with 2 components, 300 iterations. Set perplexity to 50.\n",
    "- Use **log_ret_df_std** dataset for stock tickers only\n",
    "- Store the results of fitting in **tsne_results** np.array"
   ]
  },
  {
   "cell_type": "code",
   "execution_count": null,
   "metadata": {
    "collapsed": true
   },
   "outputs": [],
   "source": [
    "import time\n",
    "from sklearn.manifold import TSNE\n",
    "\n",
    "np.random.seed(42)\n",
    "tsne_results = np.zeros((log_ret_df_std[stock_tickers].shape[0], 2))\n",
    "perplexity = 50 \n",
    "n_iter = 300\n",
    "time_start = time.time()\n",
    "pca = KernelPCA(n_components=1, \n",
    "                random_state=42)\n",
    "df_index_test['PCA_1'] = pca.fit_transform(df_test[stock_tickers])\n",
    "\n",
    "### GRADED PART (DO NOT EDIT) ###"
   ]
  },
  {
   "cell_type": "code",
   "execution_count": null,
   "metadata": {
    "collapsed": true
   },
   "outputs": [],
   "source": [
    "df_tsne = pd.DataFrame({'regime': log_ret_df_std.regime.values,\n",
    "                        'x-tsne': tsne_results[:,0],\n",
    "                        'y-tsne': tsne_results[:,1]},\n",
    "                       index=log_ret_df_std.index)\n",
    "print('t-SNE (perplexity=%.0f) data:' % perplexity)\n",
    "df_tsne.head(10)"
   ]
  },
  {
   "cell_type": "code",
   "execution_count": null,
   "metadata": {
    "collapsed": true
   },
   "outputs": [],
   "source": [
    "### GRADED PART (DO NOT EDIT) ###\n",
    "np.random.seed(42)\n",
    "idx_row = np.random.randint(low=0, high=tsne_results.shape[0], size=100)\n",
    "np.random.seed(42)\n",
    "idx_col = np.random.randint(low=0, high=tsne_results.shape[1], size=100)\n",
    "\n",
    "#grading\n",
    "part_5 = list(tsne_results[idx_row, idx_col]) # because PCA results match down to a sign\n",
    "try:\n",
    "    part5 = \" \".join(map(repr, part_5))\n",
    "except TypeError:\n",
    "    part5 = repr(part_5)\n",
    "    \n",
    "submissions[all_parts[4]]=part5\n",
    "grading.submit(COURSERA_EMAIL, COURSERA_TOKEN, assignment_key,all_parts[:5],all_parts,submissions)\n",
    "\n",
    "tsne_results[idx_row, idx_col]\n",
    "### GRADED PART (DO NOT EDIT) ###"
   ]
  },
  {
   "cell_type": "code",
   "execution_count": null,
   "metadata": {
    "collapsed": true
   },
   "outputs": [],
   "source": [
    "def plot_tsne_2D(df_tsne, label_column, plot_title):\n",
    "    \"\"\"\n",
    "    plot_tsne_2D - plots t-SNE as two-dimensional graph\n",
    "    Arguments:\n",
    "    label_column - column name where labels data is stored\n",
    "    df_tsne - pandas.DataFrame with columns x-tsne, y-tsne\n",
    "    plot_title - string\n",
    "    \"\"\"\n",
    "    unique_labels = df_tsne[label_column].unique()\n",
    "    print('Data labels:', unique_labels)\n",
    "    print(df_tsne.shape)\n",
    "\n",
    "    colors = [ 'b', 'g','r']\n",
    "    markers = ['s', 'x', 'o']\n",
    "    y_train = df_tsne.regime.values\n",
    "\n",
    "    plt.figure(figsize=(8, 8))\n",
    "    ix = 0\n",
    "    bars = [None] * len(unique_labels)\n",
    "    for label, c, m in zip(unique_labels, colors, markers):\n",
    "        plt.scatter(df_tsne.loc[df_tsne[label_column]==label, 'x-tsne'], \n",
    "                    df_tsne.loc[df_tsne[label_column]==label, 'y-tsne'], \n",
    "                    c=c, label=label, marker=m, s=15)\n",
    "        bars[ix] = plt.bar([0, 1, 2], [0.2, 0.3, 0.1], width=0.4, align=\"center\", color=c)\n",
    "        ix += 1\n",
    "\n",
    "    plt.legend(bars, unique_labels)\n",
    "    plt.xlabel('first dimension')\n",
    "    plt.ylabel('second dimension')\n",
    "    plt.title(plot_title)\n",
    "    plt.grid()\n",
    "    plt.show()"
   ]
  },
  {
   "cell_type": "code",
   "execution_count": null,
   "metadata": {
    "collapsed": true
   },
   "outputs": [],
   "source": [
    "plot_tsne_2D(df_tsne, 'regime', 'S&P 500 dimensionality reduction with t-SNE (perplexity=%d)' % perplexity)"
   ]
  },
  {
   "cell_type": "code",
   "execution_count": null,
   "metadata": {
    "collapsed": true
   },
   "outputs": [],
   "source": []
  }
 ],
 "metadata": {
  "anaconda-cloud": {},
  "coursera": {
   "course_slug": "machine-learning-in-finance"
  },
  "kernelspec": {
   "display_name": "Python 3",
   "language": "python",
   "name": "python3"
  },
  "language_info": {
   "codemirror_mode": {
    "name": "ipython",
    "version": 3
   },
   "file_extension": ".py",
   "mimetype": "text/x-python",
   "name": "python",
   "nbconvert_exporter": "python",
   "pygments_lexer": "ipython3",
   "version": "3.6.2"
  },
  "latex_envs": {
   "LaTeX_envs_menu_present": true,
   "autoclose": false,
   "autocomplete": true,
   "bibliofile": "biblio.bib",
   "cite_by": "apalike",
   "current_citInitial": 1,
   "eqLabelWithNumbers": true,
   "eqNumInitial": 1,
   "hotkeys": {
    "equation": "Ctrl-E",
    "itemize": "Ctrl-I"
   },
   "labels_anchors": false,
   "latex_user_defs": false,
   "report_style_numbering": false,
   "user_envs_cfg": false
  },
  "varInspector": {
   "cols": {
    "lenName": 16,
    "lenType": 16,
    "lenVar": 40
   },
   "kernels_config": {
    "python": {
     "delete_cmd_postfix": "",
     "delete_cmd_prefix": "del ",
     "library": "var_list.py",
     "varRefreshCmd": "print(var_dic_list())"
    },
    "r": {
     "delete_cmd_postfix": ") ",
     "delete_cmd_prefix": "rm(",
     "library": "var_list.r",
     "varRefreshCmd": "cat(var_dic_list()) "
    }
   },
   "types_to_exclude": [
    "module",
    "function",
    "builtin_function_or_method",
    "instance",
    "_Feature"
   ],
   "window_display": false
  }
 },
 "nbformat": 4,
 "nbformat_minor": 1
}
