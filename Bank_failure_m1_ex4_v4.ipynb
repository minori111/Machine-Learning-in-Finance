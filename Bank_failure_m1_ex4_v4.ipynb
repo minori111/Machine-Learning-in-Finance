{
 "cells": [
  {
   "cell_type": "markdown",
   "metadata": {},
   "source": [
    "## Modeling of bank failures by FDIC \n"
   ]
  },
  {
   "cell_type": "code",
   "execution_count": 1,
   "metadata": {},
   "outputs": [
    {
     "name": "stdout",
     "output_type": "stream",
     "text": [
      "scikit-learn version: 0.18.1\n"
     ]
    }
   ],
   "source": [
    "import pandas as pd\n",
    "import numpy as np\n",
    "import time\n",
    "\n",
    "import os\n",
    "import functools\n",
    "import math\n",
    "import random\n",
    "import sys, getopt\n",
    "import sklearn\n",
    "\n",
    "sys.path.append(\"..\")\n",
    "import grading\n",
    "\n",
    "try:\n",
    "    import matplotlib.pyplot as plt\n",
    "    %matplotlib inline\n",
    "except:\n",
    "    pass\n",
    "print('scikit-learn version:', sklearn.__version__)"
   ]
  },
  {
   "cell_type": "code",
   "execution_count": 2,
   "metadata": {
    "collapsed": true
   },
   "outputs": [],
   "source": [
    "### ONLY FOR GRADING. DO NOT EDIT ###\n",
    "submissions=dict()\n",
    "assignment_key=\"7VcH6P8REeeRWA42vRAjYg\" \n",
    "all_parts=[\"o5YYT\", \"2cHUA\", \"Mxrav\",\"JFNf3\", \"ivHQa\"]\n",
    "### ONLY FOR GRADING. DO NOT EDIT ###"
   ]
  },
  {
   "cell_type": "code",
   "execution_count": 129,
   "metadata": {
    "collapsed": true
   },
   "outputs": [],
   "source": [
    "# token expires every 30 min\n",
    "COURSERA_TOKEN = 'DuB6CjhGoyhbFChY'# the key provided to the Student under his/her email on submission page\n",
    "COURSERA_EMAIL = 'whisper4738@gmail.com'# the email"
   ]
  },
  {
   "cell_type": "code",
   "execution_count": 4,
   "metadata": {
    "collapsed": true
   },
   "outputs": [],
   "source": [
    "# common cell - share this across notebooks\n",
    "state_cols = ['log_TA','NI_to_TA', 'Equity_to_TA', 'NPL_to_TL', 'REO_to_TA', \n",
    "              'ALLL_to_TL', 'core_deposits_to_TA', 'brokered_deposits_to_TA', \n",
    "              'liquid_assets_to_TA', 'loss_provision_to_TL', 'NIM', 'assets_growth']\n",
    "\n",
    "all_MEVs = np.array(['term_spread',\n",
    "                    'stock_mkt_growth',\n",
    "                    'real_gdp_growth',\n",
    "                    'unemployment_rate_change',\n",
    "                    'treasury_yield_3m',\n",
    "                    'bbb_spread',\n",
    "                    'bbb_spread_change'])\n",
    "\n",
    "MEV_cols = all_MEVs.tolist()\n",
    "\n",
    "next_state_cols = ['log_TA_plus_1Q','NI_to_TA_plus_1Q', 'Equity_to_TA_plus_1Q', 'NPL_to_TL_plus_1Q', 'REO_to_TA_plus_1Q', \n",
    "                   'ALLL_to_TL_plus_1Q', 'core_deposits_to_TA_plus_1Q', 'brokered_deposits_to_TA_plus_1Q', \n",
    "                   'liquid_assets_to_TA_plus_1Q', 'loss_provision_to_TL_plus_1Q', \n",
    "                   'ROA_plus_1Q', \n",
    "                   'NIM_plus_1Q', \n",
    "                   'assets_growth_plus_1Q', \n",
    "                   'FDIC_assessment_base_plus_1Q_n']"
   ]
  },
  {
   "cell_type": "code",
   "execution_count": 5,
   "metadata": {},
   "outputs": [
    {
     "name": "stdout",
     "output_type": "stream",
     "text": [
      "Opening ../readonly/df_train_FDIC_defaults_1Y.h5 in read-only mode\n",
      "Opening ../readonly/df_test_FDIC_defaults_1Y.h5 in read-only mode\n",
      "Opening ../readonly/data_adj_FDIC_small.h5 in read-only mode\n",
      "Opening ../readonly/df_FDIC_learn.h5 in read-only mode\n",
      "['IDRSSD', 'date']\n"
     ]
    }
   ],
   "source": [
    "df_train = pd.read_hdf('../readonly/df_train_FDIC_defaults_1Y.h5', key='df')\n",
    "df_test = pd.read_hdf('../readonly/df_test_FDIC_defaults_1Y.h5', key='df')\n",
    "df_data = pd.read_hdf('../readonly/data_adj_FDIC_small.h5', key='df')\n",
    "df_closure_learn = pd.read_hdf('../readonly/df_FDIC_learn.h5',key='df')\n",
    "print(df_closure_learn.index.names)"
   ]
  },
  {
   "cell_type": "code",
   "execution_count": 16,
   "metadata": {
    "scrolled": true
   },
   "outputs": [
    {
     "data": {
      "text/html": [
       "<div>\n",
       "<table border=\"1\" class=\"dataframe\">\n",
       "  <thead>\n",
       "    <tr style=\"text-align: right;\">\n",
       "      <th></th>\n",
       "      <th></th>\n",
       "      <th>Financial Institution Name</th>\n",
       "      <th>Institution Name</th>\n",
       "      <th>total_assets</th>\n",
       "      <th>defaulter</th>\n",
       "      <th>Failure / Assistance</th>\n",
       "      <th>log_TA</th>\n",
       "      <th>NI_to_TA</th>\n",
       "      <th>Equity_to_TA</th>\n",
       "      <th>NPL_to_TL</th>\n",
       "      <th>REO_to_TA</th>\n",
       "      <th>...</th>\n",
       "      <th>loss_provision_to_TL_plus_1Q</th>\n",
       "      <th>ROA_plus_1Q</th>\n",
       "      <th>NIM_plus_1Q</th>\n",
       "      <th>assets_growth_plus_1Q</th>\n",
       "      <th>default_within_1Y</th>\n",
       "      <th>Failure</th>\n",
       "      <th>max_total_assets</th>\n",
       "      <th>num_records</th>\n",
       "      <th>non_defaulter</th>\n",
       "      <th>const</th>\n",
       "    </tr>\n",
       "    <tr>\n",
       "      <th>IDRSSD</th>\n",
       "      <th>date</th>\n",
       "      <th></th>\n",
       "      <th></th>\n",
       "      <th></th>\n",
       "      <th></th>\n",
       "      <th></th>\n",
       "      <th></th>\n",
       "      <th></th>\n",
       "      <th></th>\n",
       "      <th></th>\n",
       "      <th></th>\n",
       "      <th></th>\n",
       "      <th></th>\n",
       "      <th></th>\n",
       "      <th></th>\n",
       "      <th></th>\n",
       "      <th></th>\n",
       "      <th></th>\n",
       "      <th></th>\n",
       "      <th></th>\n",
       "      <th></th>\n",
       "      <th></th>\n",
       "    </tr>\n",
       "  </thead>\n",
       "  <tbody>\n",
       "    <tr>\n",
       "      <th>904957</th>\n",
       "      <th>2008-03-31</th>\n",
       "      <td>COLORADO NATIONAL BANK</td>\n",
       "      <td>COLORADO NATIONAL BANK</td>\n",
       "      <td>142138.0</td>\n",
       "      <td>1.0</td>\n",
       "      <td>FAILURE</td>\n",
       "      <td>-0.048734</td>\n",
       "      <td>-6.505183</td>\n",
       "      <td>-0.759562</td>\n",
       "      <td>0.880756</td>\n",
       "      <td>-0.162301</td>\n",
       "      <td>...</td>\n",
       "      <td>0.004823</td>\n",
       "      <td>-0.367905</td>\n",
       "      <td>-0.840312</td>\n",
       "      <td>-0.582232</td>\n",
       "      <td>1.0</td>\n",
       "      <td>1.0</td>\n",
       "      <td>142138.0</td>\n",
       "      <td>31.0</td>\n",
       "      <td>0.0</td>\n",
       "      <td>1</td>\n",
       "    </tr>\n",
       "    <tr>\n",
       "      <th>202907</th>\n",
       "      <th>2011-06-30</th>\n",
       "      <td>COMMUNITY BANK, NATIONAL ASSOCIATION</td>\n",
       "      <td>NaN</td>\n",
       "      <td>6364903.0</td>\n",
       "      <td>0.0</td>\n",
       "      <td>NaN</td>\n",
       "      <td>2.754852</td>\n",
       "      <td>0.143005</td>\n",
       "      <td>0.249275</td>\n",
       "      <td>-0.405931</td>\n",
       "      <td>-0.327268</td>\n",
       "      <td>...</td>\n",
       "      <td>-0.003057</td>\n",
       "      <td>0.205816</td>\n",
       "      <td>-0.140365</td>\n",
       "      <td>0.003962</td>\n",
       "      <td>0.0</td>\n",
       "      <td>NaN</td>\n",
       "      <td>8494486.0</td>\n",
       "      <td>60.0</td>\n",
       "      <td>1.0</td>\n",
       "      <td>1</td>\n",
       "    </tr>\n",
       "    <tr>\n",
       "      <th>652874</th>\n",
       "      <th>2012-12-31</th>\n",
       "      <td>NEXBANK, SSB</td>\n",
       "      <td>NaN</td>\n",
       "      <td>784781.0</td>\n",
       "      <td>0.0</td>\n",
       "      <td>NaN</td>\n",
       "      <td>1.211269</td>\n",
       "      <td>0.229021</td>\n",
       "      <td>-0.301031</td>\n",
       "      <td>-0.750449</td>\n",
       "      <td>-0.304600</td>\n",
       "      <td>...</td>\n",
       "      <td>-0.003506</td>\n",
       "      <td>0.470935</td>\n",
       "      <td>-0.799310</td>\n",
       "      <td>0.284815</td>\n",
       "      <td>0.0</td>\n",
       "      <td>NaN</td>\n",
       "      <td>2698563.0</td>\n",
       "      <td>60.0</td>\n",
       "      <td>1.0</td>\n",
       "      <td>1</td>\n",
       "    </tr>\n",
       "    <tr>\n",
       "      <th>9115</th>\n",
       "      <th>2003-03-31</th>\n",
       "      <td>COMMERCE BANK/SHORE NATIONAL ASSOCIATION</td>\n",
       "      <td>NaN</td>\n",
       "      <td>2173481.0</td>\n",
       "      <td>0.0</td>\n",
       "      <td>NaN</td>\n",
       "      <td>1.962490</td>\n",
       "      <td>0.253469</td>\n",
       "      <td>-0.922810</td>\n",
       "      <td>-0.752942</td>\n",
       "      <td>-0.374868</td>\n",
       "      <td>...</td>\n",
       "      <td>-0.002819</td>\n",
       "      <td>0.225454</td>\n",
       "      <td>-0.324276</td>\n",
       "      <td>1.091618</td>\n",
       "      <td>0.0</td>\n",
       "      <td>NaN</td>\n",
       "      <td>2697759.0</td>\n",
       "      <td>12.0</td>\n",
       "      <td>1.0</td>\n",
       "      <td>1</td>\n",
       "    </tr>\n",
       "    <tr>\n",
       "      <th>3344611</th>\n",
       "      <th>2012-06-30</th>\n",
       "      <td>BANK OF AMERICA RHODE ISLAND, NATIONAL ASSOCIA...</td>\n",
       "      <td>NaN</td>\n",
       "      <td>19405460.0</td>\n",
       "      <td>1.0</td>\n",
       "      <td>NaN</td>\n",
       "      <td>3.576923</td>\n",
       "      <td>0.103615</td>\n",
       "      <td>0.088508</td>\n",
       "      <td>2.380231</td>\n",
       "      <td>-0.121243</td>\n",
       "      <td>...</td>\n",
       "      <td>0.001903</td>\n",
       "      <td>0.101099</td>\n",
       "      <td>-0.791229</td>\n",
       "      <td>-0.408817</td>\n",
       "      <td>0.0</td>\n",
       "      <td>NaN</td>\n",
       "      <td>39211041.0</td>\n",
       "      <td>31.0</td>\n",
       "      <td>0.0</td>\n",
       "      <td>1</td>\n",
       "    </tr>\n",
       "  </tbody>\n",
       "</table>\n",
       "<p>5 rows × 44 columns</p>\n",
       "</div>"
      ],
      "text/plain": [
       "                                           Financial Institution Name  \\\n",
       "IDRSSD  date                                                            \n",
       "904957  2008-03-31                             COLORADO NATIONAL BANK   \n",
       "202907  2011-06-30               COMMUNITY BANK, NATIONAL ASSOCIATION   \n",
       "652874  2012-12-31                                       NEXBANK, SSB   \n",
       "9115    2003-03-31           COMMERCE BANK/SHORE NATIONAL ASSOCIATION   \n",
       "3344611 2012-06-30  BANK OF AMERICA RHODE ISLAND, NATIONAL ASSOCIA...   \n",
       "\n",
       "                         Institution Name   total_assets  defaulter  \\\n",
       "IDRSSD  date                                                          \n",
       "904957  2008-03-31  COLORADO NATIONAL BANK      142138.0        1.0   \n",
       "202907  2011-06-30                     NaN     6364903.0        0.0   \n",
       "652874  2012-12-31                     NaN      784781.0        0.0   \n",
       "9115    2003-03-31                     NaN     2173481.0        0.0   \n",
       "3344611 2012-06-30                     NaN    19405460.0        1.0   \n",
       "\n",
       "                   Failure / Assistance     log_TA  NI_to_TA  Equity_to_TA  \\\n",
       "IDRSSD  date                                                                 \n",
       "904957  2008-03-31               FAILURE -0.048734 -6.505183     -0.759562   \n",
       "202907  2011-06-30                   NaN  2.754852  0.143005      0.249275   \n",
       "652874  2012-12-31                   NaN  1.211269  0.229021     -0.301031   \n",
       "9115    2003-03-31                   NaN  1.962490  0.253469     -0.922810   \n",
       "3344611 2012-06-30                   NaN  3.576923  0.103615      0.088508   \n",
       "\n",
       "                    NPL_to_TL  REO_to_TA  ...    loss_provision_to_TL_plus_1Q  \\\n",
       "IDRSSD  date                              ...                                   \n",
       "904957  2008-03-31   0.880756  -0.162301  ...                        0.004823   \n",
       "202907  2011-06-30  -0.405931  -0.327268  ...                       -0.003057   \n",
       "652874  2012-12-31  -0.750449  -0.304600  ...                       -0.003506   \n",
       "9115    2003-03-31  -0.752942  -0.374868  ...                       -0.002819   \n",
       "3344611 2012-06-30   2.380231  -0.121243  ...                        0.001903   \n",
       "\n",
       "                    ROA_plus_1Q  NIM_plus_1Q  assets_growth_plus_1Q  \\\n",
       "IDRSSD  date                                                          \n",
       "904957  2008-03-31    -0.367905    -0.840312              -0.582232   \n",
       "202907  2011-06-30     0.205816    -0.140365               0.003962   \n",
       "652874  2012-12-31     0.470935    -0.799310               0.284815   \n",
       "9115    2003-03-31     0.225454    -0.324276               1.091618   \n",
       "3344611 2012-06-30     0.101099    -0.791229              -0.408817   \n",
       "\n",
       "                    default_within_1Y  Failure  max_total_assets  num_records  \\\n",
       "IDRSSD  date                                                                    \n",
       "904957  2008-03-31                1.0      1.0          142138.0         31.0   \n",
       "202907  2011-06-30                0.0      NaN         8494486.0         60.0   \n",
       "652874  2012-12-31                0.0      NaN         2698563.0         60.0   \n",
       "9115    2003-03-31                0.0      NaN         2697759.0         12.0   \n",
       "3344611 2012-06-30                0.0      NaN        39211041.0         31.0   \n",
       "\n",
       "                    non_defaulter  const  \n",
       "IDRSSD  date                              \n",
       "904957  2008-03-31            0.0      1  \n",
       "202907  2011-06-30            1.0      1  \n",
       "652874  2012-12-31            1.0      1  \n",
       "9115    2003-03-31            1.0      1  \n",
       "3344611 2012-06-30            0.0      1  \n",
       "\n",
       "[5 rows x 44 columns]"
      ]
     },
     "execution_count": 16,
     "metadata": {},
     "output_type": "execute_result"
    }
   ],
   "source": [
    "df_train.head()"
   ]
  },
  {
   "cell_type": "code",
   "execution_count": 15,
   "metadata": {},
   "outputs": [
    {
     "data": {
      "text/plain": [
       "array([[ 1.,  0.],\n",
       "       [ 0.,  1.],\n",
       "       [ 0.,  1.],\n",
       "       ..., \n",
       "       [ 1.,  0.],\n",
       "       [ 0.,  1.],\n",
       "       [ 0.,  1.]])"
      ]
     },
     "execution_count": 15,
     "metadata": {},
     "output_type": "execute_result"
    }
   ],
   "source": [
    "df_train[['defaulter','non_defaulter']].values"
   ]
  },
  {
   "cell_type": "code",
   "execution_count": 8,
   "metadata": {},
   "outputs": [
    {
     "data": {
      "text/html": [
       "<div>\n",
       "<table border=\"1\" class=\"dataframe\">\n",
       "  <thead>\n",
       "    <tr style=\"text-align: right;\">\n",
       "      <th></th>\n",
       "      <th></th>\n",
       "      <th>Financial Institution Name</th>\n",
       "      <th>Institution Name</th>\n",
       "      <th>total_assets</th>\n",
       "      <th>defaulter</th>\n",
       "      <th>Failure / Assistance</th>\n",
       "      <th>log_TA</th>\n",
       "      <th>NI_to_TA</th>\n",
       "      <th>Equity_to_TA</th>\n",
       "      <th>NPL_to_TL</th>\n",
       "      <th>REO_to_TA</th>\n",
       "      <th>...</th>\n",
       "      <th>loss_provision_to_TL_plus_1Q</th>\n",
       "      <th>ROA_plus_1Q</th>\n",
       "      <th>NIM_plus_1Q</th>\n",
       "      <th>assets_growth_plus_1Q</th>\n",
       "      <th>default_within_1Y</th>\n",
       "      <th>Failure</th>\n",
       "      <th>max_total_assets</th>\n",
       "      <th>num_records</th>\n",
       "      <th>non_defaulter</th>\n",
       "      <th>const</th>\n",
       "    </tr>\n",
       "    <tr>\n",
       "      <th>IDRSSD</th>\n",
       "      <th>date</th>\n",
       "      <th></th>\n",
       "      <th></th>\n",
       "      <th></th>\n",
       "      <th></th>\n",
       "      <th></th>\n",
       "      <th></th>\n",
       "      <th></th>\n",
       "      <th></th>\n",
       "      <th></th>\n",
       "      <th></th>\n",
       "      <th></th>\n",
       "      <th></th>\n",
       "      <th></th>\n",
       "      <th></th>\n",
       "      <th></th>\n",
       "      <th></th>\n",
       "      <th></th>\n",
       "      <th></th>\n",
       "      <th></th>\n",
       "      <th></th>\n",
       "      <th></th>\n",
       "    </tr>\n",
       "  </thead>\n",
       "  <tbody>\n",
       "    <tr>\n",
       "      <th>1213777</th>\n",
       "      <th>2011-09-30</th>\n",
       "      <td>TRUMAN BANK</td>\n",
       "      <td>TRUMAN BANK</td>\n",
       "      <td>337056.0</td>\n",
       "      <td>1.0</td>\n",
       "      <td>FAILURE</td>\n",
       "      <td>0.588013</td>\n",
       "      <td>-5.058755</td>\n",
       "      <td>-1.021887</td>\n",
       "      <td>4.315976</td>\n",
       "      <td>7.588569</td>\n",
       "      <td>...</td>\n",
       "      <td>0.009713</td>\n",
       "      <td>-1.474111</td>\n",
       "      <td>-0.610497</td>\n",
       "      <td>-1.088836</td>\n",
       "      <td>1.0</td>\n",
       "      <td>1.0</td>\n",
       "      <td>558073.0</td>\n",
       "      <td>45.0</td>\n",
       "      <td>0.0</td>\n",
       "      <td>1</td>\n",
       "    </tr>\n",
       "    <tr>\n",
       "      <th>83311</th>\n",
       "      <th>2007-06-30</th>\n",
       "      <td>PNC BANK, DELAWARE</td>\n",
       "      <td>NaN</td>\n",
       "      <td>2960286.0</td>\n",
       "      <td>0.0</td>\n",
       "      <td>NaN</td>\n",
       "      <td>2.190328</td>\n",
       "      <td>0.422240</td>\n",
       "      <td>-0.787642</td>\n",
       "      <td>-0.643885</td>\n",
       "      <td>-0.321457</td>\n",
       "      <td>...</td>\n",
       "      <td>-0.002730</td>\n",
       "      <td>0.819202</td>\n",
       "      <td>0.449319</td>\n",
       "      <td>1.051341</td>\n",
       "      <td>0.0</td>\n",
       "      <td>NaN</td>\n",
       "      <td>3291676.0</td>\n",
       "      <td>33.0</td>\n",
       "      <td>1.0</td>\n",
       "      <td>1</td>\n",
       "    </tr>\n",
       "    <tr>\n",
       "      <th>455365</th>\n",
       "      <th>2003-06-30</th>\n",
       "      <td>CITIBANK (NEVADA), NATIONAL ASSOCIATION</td>\n",
       "      <td>NaN</td>\n",
       "      <td>9606063.0</td>\n",
       "      <td>0.0</td>\n",
       "      <td>NaN</td>\n",
       "      <td>3.058381</td>\n",
       "      <td>2.207184</td>\n",
       "      <td>2.624091</td>\n",
       "      <td>-0.391809</td>\n",
       "      <td>-0.374868</td>\n",
       "      <td>...</td>\n",
       "      <td>0.021160</td>\n",
       "      <td>0.827236</td>\n",
       "      <td>0.666529</td>\n",
       "      <td>4.411482</td>\n",
       "      <td>0.0</td>\n",
       "      <td>NaN</td>\n",
       "      <td>19444557.0</td>\n",
       "      <td>22.0</td>\n",
       "      <td>1.0</td>\n",
       "      <td>1</td>\n",
       "    </tr>\n",
       "    <tr>\n",
       "      <th>2905565</th>\n",
       "      <th>2011-06-30</th>\n",
       "      <td>ALABAMA TRUST BANK, NATIONAL ASSOCIATION</td>\n",
       "      <td>ALABAMA TRUST BANK, NATIONAL ASSOCIATION</td>\n",
       "      <td>60570.0</td>\n",
       "      <td>1.0</td>\n",
       "      <td>FAILURE</td>\n",
       "      <td>-0.677774</td>\n",
       "      <td>-0.598225</td>\n",
       "      <td>-1.111535</td>\n",
       "      <td>1.256836</td>\n",
       "      <td>2.653281</td>\n",
       "      <td>...</td>\n",
       "      <td>0.021194</td>\n",
       "      <td>-1.771281</td>\n",
       "      <td>-0.058722</td>\n",
       "      <td>-0.455563</td>\n",
       "      <td>1.0</td>\n",
       "      <td>1.0</td>\n",
       "      <td>114202.0</td>\n",
       "      <td>44.0</td>\n",
       "      <td>0.0</td>\n",
       "      <td>1</td>\n",
       "    </tr>\n",
       "    <tr>\n",
       "      <th>2640594</th>\n",
       "      <th>2008-12-31</th>\n",
       "      <td>BUCKHEAD COMMUNITY BANK, THE</td>\n",
       "      <td>THE BUCKHEAD COMMUNITY BANK</td>\n",
       "      <td>908589.0</td>\n",
       "      <td>1.0</td>\n",
       "      <td>FAILURE</td>\n",
       "      <td>1.319296</td>\n",
       "      <td>-5.578392</td>\n",
       "      <td>-0.664064</td>\n",
       "      <td>3.991898</td>\n",
       "      <td>2.639279</td>\n",
       "      <td>...</td>\n",
       "      <td>0.011728</td>\n",
       "      <td>-1.254916</td>\n",
       "      <td>-2.256065</td>\n",
       "      <td>0.611820</td>\n",
       "      <td>1.0</td>\n",
       "      <td>1.0</td>\n",
       "      <td>972628.0</td>\n",
       "      <td>34.0</td>\n",
       "      <td>0.0</td>\n",
       "      <td>1</td>\n",
       "    </tr>\n",
       "  </tbody>\n",
       "</table>\n",
       "<p>5 rows × 44 columns</p>\n",
       "</div>"
      ],
      "text/plain": [
       "                                  Financial Institution Name  \\\n",
       "IDRSSD  date                                                   \n",
       "1213777 2011-09-30                               TRUMAN BANK   \n",
       "83311   2007-06-30                        PNC BANK, DELAWARE   \n",
       "455365  2003-06-30   CITIBANK (NEVADA), NATIONAL ASSOCIATION   \n",
       "2905565 2011-06-30  ALABAMA TRUST BANK, NATIONAL ASSOCIATION   \n",
       "2640594 2008-12-31              BUCKHEAD COMMUNITY BANK, THE   \n",
       "\n",
       "                                           Institution Name   total_assets  \\\n",
       "IDRSSD  date                                                                 \n",
       "1213777 2011-09-30                               TRUMAN BANK      337056.0   \n",
       "83311   2007-06-30                                       NaN     2960286.0   \n",
       "455365  2003-06-30                                       NaN     9606063.0   \n",
       "2905565 2011-06-30  ALABAMA TRUST BANK, NATIONAL ASSOCIATION       60570.0   \n",
       "2640594 2008-12-31               THE BUCKHEAD COMMUNITY BANK      908589.0   \n",
       "\n",
       "                    defaulter Failure / Assistance     log_TA  NI_to_TA  \\\n",
       "IDRSSD  date                                                              \n",
       "1213777 2011-09-30        1.0               FAILURE  0.588013 -5.058755   \n",
       "83311   2007-06-30        0.0                   NaN  2.190328  0.422240   \n",
       "455365  2003-06-30        0.0                   NaN  3.058381  2.207184   \n",
       "2905565 2011-06-30        1.0               FAILURE -0.677774 -0.598225   \n",
       "2640594 2008-12-31        1.0               FAILURE  1.319296 -5.578392   \n",
       "\n",
       "                    Equity_to_TA  NPL_to_TL  REO_to_TA  ...    \\\n",
       "IDRSSD  date                                            ...     \n",
       "1213777 2011-09-30     -1.021887   4.315976   7.588569  ...     \n",
       "83311   2007-06-30     -0.787642  -0.643885  -0.321457  ...     \n",
       "455365  2003-06-30      2.624091  -0.391809  -0.374868  ...     \n",
       "2905565 2011-06-30     -1.111535   1.256836   2.653281  ...     \n",
       "2640594 2008-12-31     -0.664064   3.991898   2.639279  ...     \n",
       "\n",
       "                    loss_provision_to_TL_plus_1Q  ROA_plus_1Q  NIM_plus_1Q  \\\n",
       "IDRSSD  date                                                                 \n",
       "1213777 2011-09-30                      0.009713    -1.474111    -0.610497   \n",
       "83311   2007-06-30                     -0.002730     0.819202     0.449319   \n",
       "455365  2003-06-30                      0.021160     0.827236     0.666529   \n",
       "2905565 2011-06-30                      0.021194    -1.771281    -0.058722   \n",
       "2640594 2008-12-31                      0.011728    -1.254916    -2.256065   \n",
       "\n",
       "                    assets_growth_plus_1Q  default_within_1Y  Failure  \\\n",
       "IDRSSD  date                                                            \n",
       "1213777 2011-09-30              -1.088836                1.0      1.0   \n",
       "83311   2007-06-30               1.051341                0.0      NaN   \n",
       "455365  2003-06-30               4.411482                0.0      NaN   \n",
       "2905565 2011-06-30              -0.455563                1.0      1.0   \n",
       "2640594 2008-12-31               0.611820                1.0      1.0   \n",
       "\n",
       "                    max_total_assets  num_records  non_defaulter  const  \n",
       "IDRSSD  date                                                             \n",
       "1213777 2011-09-30          558073.0         45.0            0.0      1  \n",
       "83311   2007-06-30         3291676.0         33.0            1.0      1  \n",
       "455365  2003-06-30        19444557.0         22.0            1.0      1  \n",
       "2905565 2011-06-30          114202.0         44.0            0.0      1  \n",
       "2640594 2008-12-31          972628.0         34.0            0.0      1  \n",
       "\n",
       "[5 rows x 44 columns]"
      ]
     },
     "execution_count": 8,
     "metadata": {},
     "output_type": "execute_result"
    }
   ],
   "source": [
    "df_test.head()"
   ]
  },
  {
   "cell_type": "markdown",
   "metadata": {},
   "source": [
    "## Construct training and testing datasets for logistic regression"
   ]
  },
  {
   "cell_type": "code",
   "execution_count": 6,
   "metadata": {},
   "outputs": [
    {
     "data": {
      "text/plain": [
       "<matplotlib.axes._subplots.AxesSubplot at 0x7fe2d02f01d0>"
      ]
     },
     "execution_count": 6,
     "metadata": {},
     "output_type": "execute_result"
    },
    {
     "data": {
      "image/png": "[encoded data removed]",
      "text/plain": [
       "<matplotlib.figure.Figure at 0x7fe2d056a438>"
      ]
     },
     "metadata": {},
     "output_type": "display_data"
    }
   ],
   "source": [
    "df_test.plot(x=state_cols[0], y='defaulter', kind='scatter')"
   ]
  },
  {
   "cell_type": "code",
   "execution_count": 7,
   "metadata": {},
   "outputs": [
    {
     "data": {
      "image/png": "[encoded data removed]",
      "text/plain": [
       "<matplotlib.figure.Figure at 0x7fe2bf4d1e48>"
      ]
     },
     "metadata": {},
     "output_type": "display_data"
    }
   ],
   "source": [
    "# Plot 4 scatter plots together\n",
    "\n",
    "# log_TA / NI_to_TA\n",
    "# log_TA / NPL_to_TL\n",
    "# log_TA / Equity_to_TA\n",
    "# log_TA /ROA\n",
    "\n",
    "first_indx = [0, 0, 0, 0]\n",
    "second_indx = [1, 3, 2, 10]\n",
    "\n",
    "X_train = df_train[state_cols].values\n",
    "y_train = df_train.defaulter.values # .reshape(-1,1)\n",
    "\n",
    "num_plots = 4\n",
    "if num_plots % 2 == 0:\n",
    "    f, axs = plt.subplots(num_plots // 2, 2)\n",
    "else:\n",
    "    f, axs = plt.subplots(num_plots// 2 + 1, 2)\n",
    "    \n",
    "f.subplots_adjust(hspace=.3)\n",
    "\n",
    "f.set_figheight(10.0)\n",
    "f.set_figwidth(10.0)\n",
    "    \n",
    "for i in range(num_plots):\n",
    "    if i % 2 == 0:\n",
    "        first_idx = i // 2\n",
    "        second_idx = 0\n",
    "    else:\n",
    "        first_idx = i // 2\n",
    "        second_idx = 1\n",
    "        \n",
    "    axs[first_idx,second_idx].plot(X_train[y_train == 1.0, first_indx[i]], \n",
    "                                   X_train[y_train == 1.0, second_indx[i]], 'r^', label=\"Failed\")\n",
    "    axs[first_idx,second_idx].plot(X_train[y_train == 0.0, first_indx[i]], \n",
    "                                   X_train[y_train == 0.0, second_indx[i]], 'go',label=\"Non-failed\") \n",
    "    \n",
    "    axs[first_idx, second_idx].legend()\n",
    "    axs[first_idx, second_idx].set_xlabel('%s' % state_cols[first_indx[i]])\n",
    "    axs[first_idx, second_idx].set_ylabel('%s' % state_cols[second_indx[i]])\n",
    "    axs[first_idx, second_idx].set_title('Failed banks vs non-failed banks')\n",
    "    axs[first_idx, second_idx].grid(True)\n",
    "    \n",
    "if num_plots % 2 != 0:\n",
    "    f.delaxes(axs[i // 2, 1])\n",
    "    \n",
    "# plt.savefig('Failed_vs_nonfailed_rr_plot.png')"
   ]
  },
  {
   "cell_type": "code",
   "execution_count": 10,
   "metadata": {
    "collapsed": true
   },
   "outputs": [],
   "source": [
    "def calc_metrics(model, df_test, y_true, threshold=0.5):\n",
    "    \"\"\"\n",
    "    Arguments:\n",
    "    model - trained model such as DecisionTreeClassifier, etc.\n",
    "    df_test - Data Frame of predictors\n",
    "    y_true - True binary labels in range {0, 1} or {-1, 1}. If labels are not binary, pos_label should be explicitly given.\n",
    "    \"\"\"\n",
    "    if model is None:\n",
    "        return 0., 0., 0.\n",
    "    \n",
    "    # prediction \n",
    "    predicted_sm = model.predict(df_test, linear=False)\n",
    "    predicted_binary = (predicted_sm > threshold).astype(int)\n",
    "\n",
    "    # print(predicted_sm.shape, y_true.shape)\n",
    "    fpr, tpr, _ = metrics.roc_curve(y_true, predicted_sm, pos_label=1)\n",
    "    \n",
    "    # compute Area Under the Receiver Operating Characteristic Curve (ROC AUC) from prediction scores\n",
    "    roc_auc = metrics.auc(fpr, tpr)\n",
    "    ks = np.max(tpr - fpr) # Kolmogorov - Smirnov test\n",
    "\n",
    "    # note that here teY[:,0] is the same as df_test.default_within_1Y\n",
    "    accuracy_score = metrics.accuracy_score(y_true, predicted_binary)\n",
    "    \n",
    "    # equivalently, Area Under the ROC Curve could be computed as:\n",
    "    # compute Area Under the Receiver Operating Characteristic Curve (ROC AUC) from prediction scores\n",
    "    # auc_score = metrics.roc_auc_score(y_true, predicted_sm)\n",
    "\n",
    "    try:\n",
    "        plt.title('Logistic Regression ROC curve')\n",
    "        plt.plot(fpr, tpr, 'b', label='AUC = %0.2f' % roc_auc)\n",
    "        plt.legend(loc='lower right')\n",
    "        plt.plot([0,1], [0,1], 'r--')\n",
    "        plt.xlabel('False positive rate')\n",
    "        plt.ylabel('True positive rate')\n",
    "\n",
    "        # plt.savefig('ROC_curve_1.png')\n",
    "        plt.show()\n",
    "    except:\n",
    "        pass\n",
    "\n",
    "    return roc_auc, accuracy_score, ks"
   ]
  },
  {
   "cell_type": "code",
   "execution_count": 17,
   "metadata": {
    "collapsed": true
   },
   "outputs": [],
   "source": [
    "def make_test_train(df_train, df_test, choice=0, predict_within_1Y=False):\n",
    "    \"\"\"\n",
    "    make the train and test datasets\n",
    "    Arguments:\n",
    "    choice - an integer 0 or -1. Controls selection of predictors. \n",
    "    Add tangible equity and assessment base as predictors\n",
    "\n",
    "    predict_within_1Y - boolean  if True, predict defaults within one year\n",
    "    Return:\n",
    "        a tuple of:\n",
    "        - training data set predictors, np.array\n",
    "        - training data set : variable to predict, np.array\n",
    "        - test data set : variable to predict, np.array\n",
    "        - predictor variable names\n",
    "    \"\"\"\n",
    "    \n",
    "    if choice == -1: # only state cols\n",
    "        predictors = state_cols\n",
    "    elif choice == 0:  # original variables\n",
    "        predictors = state_cols + MEV_cols \n",
    "\n",
    "    trX = df_train[predictors].values\n",
    "    teX = df_test[predictors].values\n",
    "    num_features = len(predictors)    \n",
    "    num_classes = 2\n",
    "\n",
    "    if predict_within_1Y == True:\n",
    "        trY = df_train[['default_within_1Y','no_default_within_1Y']].values\n",
    "        teY = df_test[['default_within_1Y','no_default_within_1Y']].values\n",
    "    else:\n",
    "        trY = df_train[['defaulter','non_defaulter']].values\n",
    "        teY = df_test[['defaulter','non_defaulter']].values\n",
    "    return trX, trY, teX, teY, predictors"
   ]
  },
  {
   "cell_type": "code",
   "execution_count": 20,
   "metadata": {},
   "outputs": [
    {
     "data": {
      "text/plain": [
       "<matplotlib.axes._subplots.AxesSubplot at 0x7fe2b6cfe080>"
      ]
     },
     "execution_count": 20,
     "metadata": {},
     "output_type": "execute_result"
    },
    {
     "data": {
      "image/png": "[encoded data removed]",
      "text/plain": [
       "<matplotlib.figure.Figure at 0x7fe2be7af588>"
      ]
     },
     "metadata": {},
     "output_type": "display_data"
    }
   ],
   "source": [
    "import seaborn as sns\n",
    "import matplotlib.pyplot as plt\n",
    "\n",
    "sns.set(style=\"white\")\n",
    "# Compute the correlation matrix\n",
    "corr = df_train[MEV_cols].corr()\n",
    "\n",
    "# Generate a mask for the upper triangle\n",
    "mask = np.zeros_like(corr, dtype=np.bool)\n",
    "mask[np.triu_indices_from(mask)] = True\n",
    "\n",
    "# Set up the matplotlib figure\n",
    "f, ax = plt.subplots(figsize=(11, 9))\n",
    "\n",
    "# Generate a custom diverging colormap\n",
    "cmap = sns.diverging_palette(220, 10, as_cmap=True)\n",
    "\n",
    "# Draw the heatmap with the mask and correct aspect ratio\n",
    "sns.heatmap(corr, mask=mask, cmap=cmap, vmax=.3, center=0,\n",
    "            square=True, linewidths=.5, cbar_kws={\"shrink\": .5})"
   ]
  },
  {
   "cell_type": "code",
   "execution_count": 18,
   "metadata": {},
   "outputs": [
    {
     "data": {
      "text/html": [
       "<div>\n",
       "<table border=\"1\" class=\"dataframe\">\n",
       "  <thead>\n",
       "    <tr style=\"text-align: right;\">\n",
       "      <th></th>\n",
       "      <th>term_spread</th>\n",
       "      <th>stock_mkt_growth</th>\n",
       "      <th>real_gdp_growth</th>\n",
       "      <th>unemployment_rate_change</th>\n",
       "      <th>treasury_yield_3m</th>\n",
       "      <th>bbb_spread</th>\n",
       "      <th>bbb_spread_change</th>\n",
       "    </tr>\n",
       "  </thead>\n",
       "  <tbody>\n",
       "    <tr>\n",
       "      <th>term_spread</th>\n",
       "      <td>1.000000</td>\n",
       "      <td>0.002993</td>\n",
       "      <td>-0.145941</td>\n",
       "      <td>0.299972</td>\n",
       "      <td>-0.633991</td>\n",
       "      <td>0.392349</td>\n",
       "      <td>-0.465767</td>\n",
       "    </tr>\n",
       "    <tr>\n",
       "      <th>stock_mkt_growth</th>\n",
       "      <td>0.002993</td>\n",
       "      <td>1.000000</td>\n",
       "      <td>-0.148941</td>\n",
       "      <td>0.461947</td>\n",
       "      <td>-0.081915</td>\n",
       "      <td>0.417379</td>\n",
       "      <td>-0.762702</td>\n",
       "    </tr>\n",
       "    <tr>\n",
       "      <th>real_gdp_growth</th>\n",
       "      <td>-0.145941</td>\n",
       "      <td>-0.148941</td>\n",
       "      <td>1.000000</td>\n",
       "      <td>-0.825802</td>\n",
       "      <td>0.041596</td>\n",
       "      <td>-0.820518</td>\n",
       "      <td>0.385007</td>\n",
       "    </tr>\n",
       "    <tr>\n",
       "      <th>unemployment_rate_change</th>\n",
       "      <td>0.299972</td>\n",
       "      <td>0.461947</td>\n",
       "      <td>-0.825802</td>\n",
       "      <td>1.000000</td>\n",
       "      <td>0.034355</td>\n",
       "      <td>0.881223</td>\n",
       "      <td>-0.657093</td>\n",
       "    </tr>\n",
       "    <tr>\n",
       "      <th>treasury_yield_3m</th>\n",
       "      <td>-0.633991</td>\n",
       "      <td>-0.081915</td>\n",
       "      <td>0.041596</td>\n",
       "      <td>0.034355</td>\n",
       "      <td>1.000000</td>\n",
       "      <td>-0.272072</td>\n",
       "      <td>0.290414</td>\n",
       "    </tr>\n",
       "    <tr>\n",
       "      <th>bbb_spread</th>\n",
       "      <td>0.392349</td>\n",
       "      <td>0.417379</td>\n",
       "      <td>-0.820518</td>\n",
       "      <td>0.881223</td>\n",
       "      <td>-0.272072</td>\n",
       "      <td>1.000000</td>\n",
       "      <td>-0.716249</td>\n",
       "    </tr>\n",
       "    <tr>\n",
       "      <th>bbb_spread_change</th>\n",
       "      <td>-0.465767</td>\n",
       "      <td>-0.762702</td>\n",
       "      <td>0.385007</td>\n",
       "      <td>-0.657093</td>\n",
       "      <td>0.290414</td>\n",
       "      <td>-0.716249</td>\n",
       "      <td>1.000000</td>\n",
       "    </tr>\n",
       "  </tbody>\n",
       "</table>\n",
       "</div>"
      ],
      "text/plain": [
       "                          term_spread  stock_mkt_growth  real_gdp_growth  \\\n",
       "term_spread                  1.000000          0.002993        -0.145941   \n",
       "stock_mkt_growth             0.002993          1.000000        -0.148941   \n",
       "real_gdp_growth             -0.145941         -0.148941         1.000000   \n",
       "unemployment_rate_change     0.299972          0.461947        -0.825802   \n",
       "treasury_yield_3m           -0.633991         -0.081915         0.041596   \n",
       "bbb_spread                   0.392349          0.417379        -0.820518   \n",
       "bbb_spread_change           -0.465767         -0.762702         0.385007   \n",
       "\n",
       "                          unemployment_rate_change  treasury_yield_3m  \\\n",
       "term_spread                               0.299972          -0.633991   \n",
       "stock_mkt_growth                          0.461947          -0.081915   \n",
       "real_gdp_growth                          -0.825802           0.041596   \n",
       "unemployment_rate_change                  1.000000           0.034355   \n",
       "treasury_yield_3m                         0.034355           1.000000   \n",
       "bbb_spread                                0.881223          -0.272072   \n",
       "bbb_spread_change                        -0.657093           0.290414   \n",
       "\n",
       "                          bbb_spread  bbb_spread_change  \n",
       "term_spread                 0.392349          -0.465767  \n",
       "stock_mkt_growth            0.417379          -0.762702  \n",
       "real_gdp_growth            -0.820518           0.385007  \n",
       "unemployment_rate_change    0.881223          -0.657093  \n",
       "treasury_yield_3m          -0.272072           0.290414  \n",
       "bbb_spread                  1.000000          -0.716249  \n",
       "bbb_spread_change          -0.716249           1.000000  "
      ]
     },
     "execution_count": 18,
     "metadata": {},
     "output_type": "execute_result"
    }
   ],
   "source": [
    "# look at correlations\n",
    "df_train[MEV_cols].corr()"
   ]
  },
  {
   "cell_type": "markdown",
   "metadata": {},
   "source": [
    "## Logistic regression with statsmodels\n",
    "\n",
    "### Part 1\n",
    "Perform logistic regression using **cols_to_use** as predictors. Use df_train pandas DataFrame as training data set, and df_test pandas DataDrame as testing data set to perform prediction based on the already trained model. Utilize statsmodels package. The result of fitting logistic regression should be assigned to variable named **model**"
   ]
  },
  {
   "cell_type": "code",
   "execution_count": 21,
   "metadata": {},
   "outputs": [
    {
     "name": "stdout",
     "output_type": "stream",
     "text": [
      "Optimization terminated successfully.\n",
      "         Current function value: 0.159379\n",
      "         Iterations 9\n"
     ]
    }
   ],
   "source": [
    "import statsmodels.api as sm\n",
    "from sklearn import metrics\n",
    "\n",
    "cols_to_use = state_cols + MEV_cols  + ['const']\n",
    "model = None\n",
    "df_train['const'] = 1\n",
    "\n",
    "### START CODE HERE ### (≈ 3 lines of code)\n",
    "logit = sm.Logit(df_train.defaulter, df_train[cols_to_use])\n",
    "model = logit.fit()\n",
    "### END CODE HERE ###"
   ]
  },
  {
   "cell_type": "code",
   "execution_count": 22,
   "metadata": {},
   "outputs": [
    {
     "data": {
      "image/png": "[encoded data removed]",
      "text/plain": [
       "<matplotlib.figure.Figure at 0x7fe2dda81e48>"
      ]
     },
     "metadata": {},
     "output_type": "display_data"
    },
    {
     "name": "stdout",
     "output_type": "stream",
     "text": [
      "Accuracy score 0.969789\n",
      "AUC score 0.986043\n",
      "Kolmogorov-Smirnov statistic 0.950639\n"
     ]
    }
   ],
   "source": [
    "# prediction \n",
    "predicted_sm = np.array([])\n",
    "\n",
    "### START CODE HERE ### (≈ 3 lines of code)\n",
    "if model is not None:\n",
    "    predicted_sm = model.predict(df_test[cols_to_use], linear=False)\n",
    "\n",
    "### END CODE HERE ###\n",
    "\n",
    "threshold = 0.5\n",
    "predicted_binary = (predicted_sm > threshold).astype(int)\n",
    "auc_score, accuracy_score, ks = calc_metrics(model, df_test[cols_to_use], df_test.defaulter)\n",
    "\n",
    "print('Accuracy score %f' % accuracy_score)\n",
    "print('AUC score %f' % auc_score)\n",
    "print('Kolmogorov-Smirnov statistic %f' % ks)\n",
    "\n",
    "# note that here teY[:,0] is the same as df_test.default_within_1Y"
   ]
  },
  {
   "cell_type": "code",
   "execution_count": 24,
   "metadata": {},
   "outputs": [
    {
     "name": "stdout",
     "output_type": "stream",
     "text": [
      "Submission successful, please check on the coursera grader page for the status\n"
     ]
    },
    {
     "data": {
      "text/plain": [
       "[0.96978851963746227, 0.98604311289733282, 0.95063938618925836]"
      ]
     },
     "execution_count": 24,
     "metadata": {},
     "output_type": "execute_result"
    }
   ],
   "source": [
    "### GRADED PART (DO NOT EDIT) ###\n",
    "part_1=[accuracy_score, auc_score, ks]\n",
    "\n",
    "try:\n",
    "    part1 = \" \".join(map(repr, part_1))\n",
    "except TypeError:\n",
    "    part1 = repr(part_1)    \n",
    "    \n",
    "submissions[all_parts[0]]=part1\n",
    "grading.submit(COURSERA_EMAIL, COURSERA_TOKEN, assignment_key, all_parts[0],all_parts,submissions)\n",
    "[accuracy_score, auc_score, ks]\n",
    "### GRADED PART (DO NOT EDIT) ###"
   ]
  },
  {
   "cell_type": "markdown",
   "metadata": {},
   "source": [
    "## Logistic Regression with sklearn\n",
    "\n",
    "### Part 2 \n",
    "In Part 2 you will use scikit-learn to perform logistic regression using the same training and test datasets.\n",
    "Once the model is trained using trX, thisTrY, test it using teX, thisTeY and compute logistic regression score.\n",
    "\n",
    "- Use **\"l1\"** penalty\n",
    "- Set inverse of regularization strength to **1000.0**; must be a positive float. Like in support vector machines, smaller values specify stronger regularization.\n",
    "- Set tolerance to **1e-6**"
   ]
  },
  {
   "cell_type": "code",
   "execution_count": 29,
   "metadata": {},
   "outputs": [
    {
     "name": "stdout",
     "output_type": "stream",
     "text": [
      "LogisticRegression score: 0.969789\n"
     ]
    }
   ],
   "source": [
    "from sklearn import neighbors, linear_model\n",
    "\n",
    "trX, trY, teX, teY, predictors = make_test_train(df_train, df_test)\n",
    "lr_score = 0.\n",
    "thisTrY = trY[:,0]\n",
    "thisTeY = teY[:,0]\n",
    "\n",
    "logistic = None # instantiate a model and reference it\n",
    "result = None # result of fitting the model\n",
    "\n",
    "### START CODE HERE ### (≈ 3 lines of code)\n",
    "# .... define random_state argment in logistic regression class. Ininitialize it to 42\n",
    "# such as this: random_state=42\n",
    "# the variable name required for grading lr_score\n",
    "logistic = linear_model.LogisticRegression(penalty='l1', tol=1e-6, C=1000.0)\n",
    "result = logistic.fit(trX, thisTrY)\n",
    "lr_score = result.score(teX, thisTeY)\n",
    "### END CODE HERE ###\n",
    "print('LogisticRegression score: %f' % lr_score)"
   ]
  },
  {
   "cell_type": "code",
   "execution_count": 26,
   "metadata": {},
   "outputs": [
    {
     "name": "stdout",
     "output_type": "stream",
     "text": [
      "Submission successful, please check on the coursera grader page for the status\n"
     ]
    },
    {
     "data": {
      "text/plain": [
       "0.96978851963746227"
      ]
     },
     "execution_count": 26,
     "metadata": {},
     "output_type": "execute_result"
    }
   ],
   "source": [
    "### GRADED PART (DO NOT EDIT) ###\n",
    "part2=str(lr_score)   \n",
    "submissions[all_parts[1]]=part2\n",
    "grading.submit(COURSERA_EMAIL, COURSERA_TOKEN, assignment_key, all_parts[:2],all_parts,submissions)\n",
    "lr_score\n",
    "### GRADED PART (DO NOT EDIT) ###"
   ]
  },
  {
   "cell_type": "markdown",
   "metadata": {},
   "source": [
    "**Instructions:**\n",
    "In this part you will again use scikit learn logistic regression but with different set of predictors. This will be a smaller set of predictor variables based on the analysis of P-values from the logistic regression. Use cols_to_use as predictors in df_train and df_test data sets. Use  **defaulter** column as something to predict.\n",
    "\n",
    "Initialize reference to the logistic regression model **logistic** with an instance of appropriate class from  scikit learn module and let **result** be the result of fitting the model to the training data set.\n",
    "\n",
    "Just as before initialize the model with the following parameters:\n",
    "- Use **\"l1\"** penalty\n",
    "- Set inverse of regularization strength to **1000.0**; must be a positive float. Like in support vector machines, smaller values specify stronger regularization.\n",
    "- Set tolerance to **1e-6**"
   ]
  },
  {
   "cell_type": "code",
   "execution_count": 30,
   "metadata": {
    "collapsed": true
   },
   "outputs": [],
   "source": [
    "# Do Logistic Regression with a smaller number of predictor, based on analysis of P-values \n",
    "# for the logistic regression with a full set of variables\n",
    "\n",
    "# a smaller set is based on the analysis of P-values for the logistic regression\n",
    "cols_to_use = ['log_TA', 'NI_to_TA', 'Equity_to_TA', 'NPL_to_TL',\n",
    "               'core_deposits_to_TA',\n",
    "               'brokered_deposits_to_TA',\n",
    "               'liquid_assets_to_TA'\n",
    "              ] + ['term_spread', 'stock_mkt_growth']\n",
    "\n",
    "lr_score = 0.\n",
    "logistic = None\n",
    "result = None\n",
    "### START CODE HERE ### (≈ 3 lines of code)\n",
    "# .... when initializing logistic regression class in 'sklearn', set random_state to 42 like this: random_state=42\n",
    "# ... like this: random_state=42\n",
    "# ... for grading, please store the logistic regression model into variable : logistic\n",
    "trX = df_train[cols_to_use].values\n",
    "teX = df_test[cols_to_use].values\n",
    "thisTrY = (df_train.defaulter.values)\n",
    "thisTeY = (df_test.defaulter.values)\n",
    "logistic = linear_model.LogisticRegression(penalty='l1', tol=1e-6, C=1000.0)\n",
    "result = logistic.fit(trX, thisTrY)\n",
    "lr_score = result.score(teX, thisTeY)\n",
    "\n",
    "### END CODE HERE ###\n",
    "\n",
    "# combine results of the Logistic Regression to a small dataframe df_coeffs_LR\n",
    "df_coeffs_LR = pd.DataFrame({0: np.array([0.] * (len(cols_to_use) + 1), dtype=np.float32)})\n",
    "if logistic is not None:\n",
    "    model_params = np.hstack((logistic.coef_[0], logistic.intercept_))\n",
    "    df_coeffs_LR = pd.DataFrame(data=model_params, index=cols_to_use + ['const'])\n",
    "    df_coeffs_LR"
   ]
  },
  {
   "cell_type": "code",
   "execution_count": 34,
   "metadata": {},
   "outputs": [
    {
     "data": {
      "text/html": [
       "<div>\n",
       "<table border=\"1\" class=\"dataframe\">\n",
       "  <thead>\n",
       "    <tr style=\"text-align: right;\">\n",
       "      <th></th>\n",
       "      <th>0</th>\n",
       "    </tr>\n",
       "  </thead>\n",
       "  <tbody>\n",
       "    <tr>\n",
       "      <th>log_TA</th>\n",
       "      <td>-1.473228</td>\n",
       "    </tr>\n",
       "    <tr>\n",
       "      <th>NI_to_TA</th>\n",
       "      <td>-0.797121</td>\n",
       "    </tr>\n",
       "    <tr>\n",
       "      <th>Equity_to_TA</th>\n",
       "      <td>-1.884348</td>\n",
       "    </tr>\n",
       "    <tr>\n",
       "      <th>NPL_to_TL</th>\n",
       "      <td>0.338079</td>\n",
       "    </tr>\n",
       "    <tr>\n",
       "      <th>core_deposits_to_TA</th>\n",
       "      <td>-0.502668</td>\n",
       "    </tr>\n",
       "    <tr>\n",
       "      <th>brokered_deposits_to_TA</th>\n",
       "      <td>0.023560</td>\n",
       "    </tr>\n",
       "    <tr>\n",
       "      <th>liquid_assets_to_TA</th>\n",
       "      <td>-0.513417</td>\n",
       "    </tr>\n",
       "    <tr>\n",
       "      <th>term_spread</th>\n",
       "      <td>0.011348</td>\n",
       "    </tr>\n",
       "    <tr>\n",
       "      <th>stock_mkt_growth</th>\n",
       "      <td>0.026440</td>\n",
       "    </tr>\n",
       "    <tr>\n",
       "      <th>const</th>\n",
       "      <td>-0.093850</td>\n",
       "    </tr>\n",
       "  </tbody>\n",
       "</table>\n",
       "</div>"
      ],
      "text/plain": [
       "                                0\n",
       "log_TA                  -1.473228\n",
       "NI_to_TA                -0.797121\n",
       "Equity_to_TA            -1.884348\n",
       "NPL_to_TL                0.338079\n",
       "core_deposits_to_TA     -0.502668\n",
       "brokered_deposits_to_TA  0.023560\n",
       "liquid_assets_to_TA     -0.513417\n",
       "term_spread              0.011348\n",
       "stock_mkt_growth         0.026440\n",
       "const                   -0.093850"
      ]
     },
     "execution_count": 34,
     "metadata": {},
     "output_type": "execute_result"
    }
   ],
   "source": [
    "df_coeffs_LR"
   ]
  },
  {
   "cell_type": "code",
   "execution_count": 33,
   "metadata": {},
   "outputs": [
    {
     "name": "stdout",
     "output_type": "stream",
     "text": [
      "Submission successful, please check on the coursera grader page for the status\n"
     ]
    },
    {
     "data": {
      "text/plain": [
       "array([-1.47322831, -0.79712116, -1.88434758,  0.33807944, -0.50266776,\n",
       "        0.02356007, -0.51341723,  0.01134753,  0.02644036, -0.09384966])"
      ]
     },
     "execution_count": 33,
     "metadata": {},
     "output_type": "execute_result"
    }
   ],
   "source": [
    "### GRADED PART (DO NOT EDIT) ###\n",
    "part_3=list(df_coeffs_LR.values.squeeze())\n",
    "try:\n",
    "    part3 = \" \".join(map(repr, part_3))\n",
    "except TypeError:\n",
    "    part3 = repr(part_3)    \n",
    "submissions[all_parts[2]]=part3\n",
    "grading.submit(COURSERA_EMAIL, COURSERA_TOKEN, assignment_key, all_parts[:3],all_parts,submissions)\n",
    "df_coeffs_LR.values.squeeze()\n",
    "### GRADED PART (DO NOT EDIT) ###"
   ]
  },
  {
   "cell_type": "markdown",
   "metadata": {},
   "source": [
    "## Logistic Regression with Tensorflow"
   ]
  },
  {
   "cell_type": "code",
   "execution_count": 117,
   "metadata": {
    "collapsed": true
   },
   "outputs": [],
   "source": [
    "# Setup inputs and expeced outputs for Logistic Regression using Tensorflow\n",
    "cols = state_cols + MEV_cols\n",
    "# inputs to Logistic Regression (via Tensorflow)\n",
    "X_trainTf = df_train[cols].values\n",
    "X_testTf = df_test[cols].values\n",
    "\n",
    "# add constant columns to both\n",
    "X_trainTf = np.hstack((np.ones((X_trainTf.shape[0], 1)), X_trainTf))\n",
    "X_testTf = np.hstack((np.ones((X_testTf.shape[0], 1)), X_testTf))\n",
    "\n",
    "# exepectd outputs:\n",
    "y_trainTf = df_train.defaulter.astype('int').values.reshape(-1,1)\n",
    "y_testTf = df_test.defaulter.astype('int').values.reshape(-1,1)"
   ]
  },
  {
   "cell_type": "code",
   "execution_count": 118,
   "metadata": {},
   "outputs": [
    {
     "data": {
      "text/plain": [
       "(641, 1)"
      ]
     },
     "execution_count": 118,
     "metadata": {},
     "output_type": "execute_result"
    }
   ],
   "source": [
    "y_trainTf.shape"
   ]
  },
  {
   "cell_type": "code",
   "execution_count": 119,
   "metadata": {},
   "outputs": [
    {
     "data": {
      "text/plain": [
       "(331, 1)"
      ]
     },
     "execution_count": 119,
     "metadata": {},
     "output_type": "execute_result"
    }
   ],
   "source": [
    "y_testTf.shape"
   ]
  },
  {
   "cell_type": "code",
   "execution_count": 120,
   "metadata": {},
   "outputs": [
    {
     "name": "stdout",
     "output_type": "stream",
     "text": [
      "Unique values to predict: [0 1]\n",
      "Number of samples to train on: 641\n",
      "Number of samples to test on: 331\n"
     ]
    }
   ],
   "source": [
    "print('Unique values to predict:', np.unique(y_trainTf))\n",
    "print('Number of samples to train on:', y_trainTf.shape[0])\n",
    "print('Number of samples to test on:', y_testTf.shape[0])"
   ]
  },
  {
   "cell_type": "code",
   "execution_count": 121,
   "metadata": {
    "collapsed": true
   },
   "outputs": [],
   "source": [
    "# to make this notebook's output stable across runs\n",
    "def reset_graph(seed=42):\n",
    "    tf.reset_default_graph()\n",
    "    tf.set_random_seed(seed)\n",
    "    np.random.seed(seed)"
   ]
  },
  {
   "cell_type": "code",
   "execution_count": 122,
   "metadata": {
    "collapsed": true
   },
   "outputs": [],
   "source": [
    "def random_batch(X_train, y_train, batch_size):\n",
    "    np.random.seed(42)\n",
    "    rnd_indices = np.random.randint(0, len(X_train), batch_size)\n",
    "    X_batch = X_train[rnd_indices]\n",
    "    y_batch = y_train[rnd_indices]\n",
    "    return X_batch, y_batch"
   ]
  },
  {
   "cell_type": "markdown",
   "metadata": {},
   "source": [
    "### Build Logistic Regression TF model\n",
    "\n",
    "**instructions**\n",
    "\n",
    "in tensorflow create: \n",
    " - placeholder for inputs called 'X' \n",
    " - placeholder for inputs called 'y'\n",
    " - variable for model parameters called 'theta', initialized with theta_init\n",
    "\n",
    "loss function: use log loss\n",
    "optimizer: use Gradient Descent optimizer"
   ]
  },
  {
   "cell_type": "code",
   "execution_count": 131,
   "metadata": {
    "collapsed": true
   },
   "outputs": [],
   "source": [
    "import tensorflow as tf\n",
    "\n",
    "# define the model\n",
    "reset_graph()\n",
    "n_inputs = X_trainTf.shape[1]\n",
    "learning_rate = 0.01\n",
    "theta_init = tf.random_uniform([n_inputs, 1], -1.0, 1.0, seed=42)\n",
    "\n",
    "# build Logistic Regression model using Tensorflow\n",
    "\n",
    "X = tf.placeholder(tf.float32, shape=(None, n_inputs), name=\"X\")\n",
    "y = tf.placeholder(tf.float32, shape=(None, 1), name=\"y\")\n",
    "theta = tf.Variable(theta_init, name=\"theta\")\n",
    "\n",
    "### START CODE HERE ### (≈ 6-7 lines of code)\n",
    "### ....\n",
    "### .... for grading please store probabilities in y_proba\n",
    "logits = tf.matmul(X, theta)\n",
    "y_proba = tf.nn.sigmoid(logits) # 1 / (1 + tf.exp(-logits))\n",
    "\n",
    "# uses epsilon = 1e-7 by default to regularize the log function\n",
    "loss = tf.losses.log_loss(y, y_proba)\n",
    "optimizer = tf.train.GradientDescentOptimizer(learning_rate).minimize(loss)\n",
    "### END CODE HERE ###\n",
    "\n",
    "init = tf.global_variables_initializer()"
   ]
  },
  {
   "cell_type": "markdown",
   "metadata": {},
   "source": [
    "\n",
    "### Train Logistic Regression TF model\n",
    "\n",
    "**Instructions**\n",
    "- Use random_batch() function to grab batches from X_trainTf and y_trainTf.\n",
    "- Once the model is trained evaluate it based on X_testTf and y_testTf. \n",
    "- The **y_proba_val** should be assigned the result of the evaluation on test dataset."
   ]
  },
  {
   "cell_type": "code",
   "execution_count": 132,
   "metadata": {
    "collapsed": true
   },
   "outputs": [],
   "source": [
    "n_epochs = 1001\n",
    "batch_size = 50\n",
    "num_rec = X_trainTf.shape[0]\n",
    "n_batches = int(np.ceil(num_rec / batch_size))\n",
    "\n",
    "y_proba_val = np.array([], dtype=np.float32)\n",
    "\n",
    "with tf.Session() as sess:\n",
    "    sess.run(init)\n",
    "\n",
    "    ### START CODE HERE ### (≈ 6-7 lines of code)\n",
    "    ## ....\n",
    "    for epoch in range(n_epochs):        \n",
    "        for batch_index in range(n_batches):\n",
    "            X_trainTf_batch, y_trainTf_batch = random_batch(X_trainTf, y_trainTf, batch_size)\n",
    "            sess.run([optimizer, loss], feed_dict={X: X_trainTf_batch, \n",
    "                                                   y: y_trainTf_batch})\n",
    "    y_proba_val = sess.run(y_proba, feed_dict={X: X_testTf})\n",
    "    \n",
    "    ### END CODE HERE ###"
   ]
  },
  {
   "cell_type": "code",
   "execution_count": 133,
   "metadata": {},
   "outputs": [
    {
     "name": "stdout",
     "output_type": "stream",
     "text": [
      "149\n"
     ]
    }
   ],
   "source": [
    "# predictions\n",
    "threshold = 0.5\n",
    "y_pred = (y_proba_val >= threshold)\n",
    "print(np.sum(y_pred))"
   ]
  },
  {
   "cell_type": "code",
   "execution_count": 134,
   "metadata": {},
   "outputs": [
    {
     "data": {
      "text/plain": [
       "array([ True, False, False,  True,  True,  True, False,  True, False,\n",
       "        True, False,  True, False, False, False,  True, False, False,\n",
       "        True, False,  True, False, False, False, False, False, False,\n",
       "       False, False, False, False, False,  True, False, False,  True,\n",
       "        True,  True, False,  True,  True, False,  True,  True,  True,\n",
       "       False, False, False, False,  True,  True,  True, False,  True,\n",
       "       False,  True, False, False, False,  True,  True,  True, False,\n",
       "        True,  True,  True, False,  True, False,  True, False,  True,\n",
       "       False, False, False, False,  True, False,  True,  True,  True,\n",
       "        True, False,  True, False, False,  True, False, False,  True,\n",
       "       False, False,  True, False, False,  True, False,  True,  True,\n",
       "        True,  True,  True, False,  True, False,  True, False,  True,\n",
       "        True, False,  True, False,  True, False,  True,  True, False,\n",
       "        True, False, False,  True,  True, False,  True, False, False,\n",
       "       False, False,  True, False, False, False,  True,  True, False,\n",
       "       False, False,  True, False,  True, False,  True, False, False,\n",
       "       False, False, False,  True, False, False,  True, False,  True,\n",
       "        True, False,  True, False, False,  True,  True,  True, False,\n",
       "       False, False,  True,  True,  True,  True, False,  True, False,\n",
       "        True, False,  True,  True,  True, False, False, False, False,\n",
       "       False, False,  True, False, False,  True, False, False, False,\n",
       "       False, False, False,  True, False, False,  True,  True, False,\n",
       "        True,  True,  True, False,  True,  True,  True, False,  True,\n",
       "       False, False,  True,  True, False, False,  True, False,  True,\n",
       "       False, False, False, False, False,  True,  True, False, False,\n",
       "       False, False,  True, False, False, False,  True, False,  True,\n",
       "       False, False,  True,  True,  True, False, False,  True,  True,\n",
       "        True,  True,  True, False, False, False, False, False, False,\n",
       "       False,  True,  True, False, False, False, False, False,  True,\n",
       "        True, False,  True, False, False,  True,  True,  True,  True,\n",
       "       False, False,  True,  True,  True, False,  True, False, False,\n",
       "       False,  True, False,  True,  True, False,  True,  True,  True,\n",
       "        True,  True, False,  True,  True,  True, False,  True,  True,\n",
       "       False,  True, False, False, False,  True,  True, False, False,\n",
       "        True, False,  True,  True, False, False, False,  True, False,\n",
       "        True, False, False, False, False, False, False,  True, False,\n",
       "        True, False, False,  True, False, False, False], dtype=bool)"
      ]
     },
     "execution_count": 134,
     "metadata": {},
     "output_type": "execute_result"
    }
   ],
   "source": [
    "y_pred.squeeze()"
   ]
  },
  {
   "cell_type": "code",
   "execution_count": 135,
   "metadata": {},
   "outputs": [
    {
     "name": "stdout",
     "output_type": "stream",
     "text": [
      "precision:  0.979865771812\n",
      "recall:  0.906832298137\n",
      "AUC score =  0.982243332115\n",
      "roc_auc =  0.982243332115\n",
      "KS_test =  0.927438801608\n"
     ]
    },
    {
     "data": {
      "image/png": "[encoded data removed]",
      "text/plain": [
       "<matplotlib.figure.Figure at 0x7fe28814d518>"
      ]
     },
     "metadata": {},
     "output_type": "display_data"
    }
   ],
   "source": [
    "# evaluate precision, recall, and AUC\n",
    "\n",
    "auc_score = 0.\n",
    "ks = 0.\n",
    "roc_auc = 0.\n",
    "recall = 0.\n",
    "precision = 0.\n",
    "\n",
    "from sklearn.metrics import precision_score, recall_score\n",
    "if y_proba_val.shape == y_testTf.shape:\n",
    "    precision = precision_score(y_testTf, y_pred)\n",
    "    recall = recall_score(y_testTf, y_pred)\n",
    "    auc_score = metrics.roc_auc_score(y_testTf, y_proba_val)\n",
    "    fpr, tpr, threshold = metrics.roc_curve(y_testTf, y_proba_val, pos_label=1)\n",
    "    roc_auc = metrics.auc(fpr, tpr)\n",
    "    ks = np.max(tpr - fpr)\n",
    "\n",
    "    print('precision: ', precision)\n",
    "    print('recall: ', recall)\n",
    "    print('AUC score = ', auc_score)\n",
    "    print('roc_auc = ', roc_auc)\n",
    "    print('KS_test = ', ks)\n",
    "\n",
    "    try:\n",
    "        plt.title('ROC_curve')\n",
    "        plt.plot(fpr, tpr, 'b', label='AUC = %0.2f' % roc_auc)\n",
    "        plt.legend(loc='lower right')\n",
    "        plt.plot([0,1], [0,1], 'r--')\n",
    "        plt.xlabel('False positive rate')\n",
    "        plt.ylabel('True positive rate')\n",
    "        plt.savefig('ROC_curve_TF.png')\n",
    "        plt.show()\n",
    "    except:\n",
    "        pass"
   ]
  },
  {
   "cell_type": "code",
   "execution_count": 136,
   "metadata": {},
   "outputs": [
    {
     "name": "stdout",
     "output_type": "stream",
     "text": [
      "Submission successful, please check on the coursera grader page for the status\n"
     ]
    },
    {
     "data": {
      "text/plain": [
       "[0.97986577181208057,\n",
       " 0.90683229813664601,\n",
       " 0.98224333211545489,\n",
       " 0.92743880160759962]"
      ]
     },
     "execution_count": 136,
     "metadata": {},
     "output_type": "execute_result"
    }
   ],
   "source": [
    "### GRADED PART (DO NOT EDIT) ###\n",
    "part_4=list([precision, recall, roc_auc, ks])\n",
    "try:\n",
    "    part4 = \" \".join(map(repr, part_4))\n",
    "except TypeError:\n",
    "    part4 = repr(part_4)\n",
    "submissions[all_parts[3]]=part4\n",
    "grading.submit(COURSERA_EMAIL, COURSERA_TOKEN, assignment_key, all_parts[:4],all_parts,submissions)\n",
    "[precision, recall, roc_auc, ks]\n",
    "### GRADED PART (DO NOT EDIT) ###"
   ]
  },
  {
   "cell_type": "markdown",
   "metadata": {},
   "source": [
    "## Neural Network with Tensorflow"
   ]
  },
  {
   "cell_type": "code",
   "execution_count": 85,
   "metadata": {
    "collapsed": true
   },
   "outputs": [],
   "source": [
    "cols = state_cols + MEV_cols\n",
    "n_inputs = len(cols)\n",
    "\n",
    "# inputs \n",
    "X_trainTf = df_train[cols].values\n",
    "X_testTf = df_test[cols].values\n",
    "\n",
    "# outputs \n",
    "y_trainTf = df_train['defaulter'].astype('int').values.reshape(-1,)\n",
    "y_testTf = df_test['defaulter'].astype('int').values.reshape(-1,)"
   ]
  },
  {
   "cell_type": "code",
   "execution_count": 86,
   "metadata": {
    "collapsed": true
   },
   "outputs": [],
   "source": [
    "import numpy as np\n",
    "def neuron_layer(X, n_neurons, name, activation=None):\n",
    "    with tf.name_scope(name):\n",
    "        tf.set_random_seed(42)\n",
    "        n_inputs = int(X.get_shape()[1])\n",
    "        stddev = 2 / np.sqrt(n_inputs)\n",
    "        init = tf.truncated_normal((n_inputs, n_neurons), stddev=stddev)\n",
    "        W = tf.Variable(init, name=\"kernel\")\n",
    "        b = tf.Variable(tf.zeros([n_neurons]), name=\"bias\")\n",
    "        Z = tf.matmul(X, W) + b\n",
    "        if activation is not None:\n",
    "            return activation(Z)\n",
    "        else:\n",
    "            return Z"
   ]
  },
  {
   "cell_type": "markdown",
   "metadata": {},
   "source": [
    "### Construct Neural Network\n",
    "\n",
    "**Instructions**\n",
    "Implement Neural Network with two hidden layers. The number of nodes in the first and the second hidden layers is **n_hidden1** and **n_hidden2** correspondingly.\n",
    "Use neuron_layer() function to construct neural network layers.\n",
    "\n",
    "- Use ReLU activation function for hidden layers\n",
    "- The output layer has **n_outputs** and does not have an activation function\n",
    "- Use sparse softmax cross-entropy with logits as a loss function"
   ]
  },
  {
   "cell_type": "code",
   "execution_count": 104,
   "metadata": {
    "collapsed": true
   },
   "outputs": [],
   "source": [
    "n_hidden1 = 20\n",
    "n_hidden2 = 10\n",
    "n_outputs = 2 # binary classification (defaulted, not defaulted bank)\n",
    "\n",
    "reset_graph()\n",
    "\n",
    "X = tf.placeholder(tf.float32, shape=(None, n_inputs), name=\"X\")\n",
    "y = tf.placeholder(tf.int32, shape=(None), name=\"y\")\n",
    "\n",
    "### START CODE HERE ### (≈ 10-15 lines of code)\n",
    "layer_1 = neuron_layer(X, n_hidden1, \"layer_1\", tf.nn.relu)\n",
    "layer_2 = neuron_layer(layer_1, n_hidden2, \"layer_2\", tf.nn.relu)\n",
    "logits = neuron_layer(layer_2, n_outputs, \"logits\")\n",
    "entropy = tf.nn.sparse_softmax_cross_entropy_with_logits(logits=logits, labels=y)\n",
    "loss = tf.reduce_mean(entropy)\n",
    "preds = tf.nn.softmax(logits)\n",
    "correct_preds = tf.equal(tf.cast(tf.argmax(preds, 1), tf.int32), y)\n",
    "acc_test_ = tf.reduce_sum(tf.cast(correct_preds, tf.float32)) / tf.cast(tf.shape(y)[0], tf.float32)\n",
    "### END CODE HERE ###\n",
    "\n",
    "init = tf.global_variables_initializer()"
   ]
  },
  {
   "cell_type": "markdown",
   "metadata": {},
   "source": [
    "### Train Neural Network\n",
    "\n",
    "**Instructions**\n",
    "Train neural network passing batches of inputs of size **batch_size**, which predicts bank defaults / non-defaults. Once the network is trained, evaluate accuracy using **X_testTf**, **y_testTf**\n"
   ]
  },
  {
   "cell_type": "code",
   "execution_count": 105,
   "metadata": {},
   "outputs": [
    {
     "data": {
      "text/plain": [
       "array([1, 1, 0, 1, 0, 0, 1, 0, 1, 1, 0, 1, 1, 1, 1, 0, 0, 0, 0, 1, 0, 0, 1,\n",
       "       0, 1, 0, 1, 0, 1, 0, 1, 1, 0, 0, 0, 0, 0, 1, 0, 0, 0, 0, 0, 0, 0, 0,\n",
       "       0, 0, 1, 0])"
      ]
     },
     "execution_count": 105,
     "metadata": {},
     "output_type": "execute_result"
    }
   ],
   "source": [
    "y_trainTf_batch"
   ]
  },
  {
   "cell_type": "code",
   "execution_count": 106,
   "metadata": {
    "collapsed": true
   },
   "outputs": [],
   "source": [
    "learning_rate = 0.05\n",
    "n_epochs = 400\n",
    "batch_size = 50\n",
    "num_rec = X_trainTf.shape[0]\n",
    "n_batches = int(np.ceil(num_rec / batch_size))\n",
    "acc_test = 0. #  assign the result of accuracy testing to this variable\n",
    "\n",
    "### START CODE HERE ### (≈ 9-10 lines of code)\n",
    "# ... variable required for testing acc_test\n",
    "optimizer = tf.train.GradientDescentOptimizer(learning_rate).minimize(loss)\n",
    "with tf.Session() as sess:\n",
    "    sess.run(init)\n",
    "    for i in range(n_epochs):\n",
    "        X_trainTf_batch, y_trainTf_batch = random_batch(X_trainTf, y_trainTf, batch_size)\n",
    "        sess.run([optimizer, loss], feed_dict={X: X_trainTf_batch, y: y_trainTf_batch})\n",
    "    \n",
    "    [acc_test] = sess.run([acc_test_], feed_dict={X: X_testTf, y: y_testTf})\n",
    "\n",
    "### END CODE HERE ###"
   ]
  },
  {
   "cell_type": "code",
   "execution_count": 137,
   "metadata": {},
   "outputs": [
    {
     "name": "stdout",
     "output_type": "stream",
     "text": [
      "Submission successful, please check on the coursera grader page for the status\n"
     ]
    },
    {
     "data": {
      "text/plain": [
       "0.92447132"
      ]
     },
     "execution_count": 137,
     "metadata": {},
     "output_type": "execute_result"
    }
   ],
   "source": [
    "### GRADED PART (DO NOT EDIT) ###\n",
    "part5=str(acc_test)\n",
    "submissions[all_parts[4]]=part5\n",
    "grading.submit(COURSERA_EMAIL, COURSERA_TOKEN, assignment_key, all_parts[:5],all_parts,submissions)\n",
    "acc_test\n",
    "### GRADED PART (DO NOT EDIT) ###"
   ]
  },
  {
   "cell_type": "code",
   "execution_count": null,
   "metadata": {
    "collapsed": true
   },
   "outputs": [],
   "source": []
  }
 ],
 "metadata": {
  "anaconda-cloud": {},
  "coursera": {
   "course_slug": "guided-tour-machine-learning-finance"
  },
  "kernelspec": {
   "display_name": "Python 3",
   "language": "python",
   "name": "python3"
  },
  "language_info": {
   "codemirror_mode": {
    "name": "ipython",
    "version": 3
   },
   "file_extension": ".py",
   "mimetype": "text/x-python",
   "name": "python",
   "nbconvert_exporter": "python",
   "pygments_lexer": "ipython3",
   "version": "3.6.2"
  }
 },
 "nbformat": 4,
 "nbformat_minor": 1
}
